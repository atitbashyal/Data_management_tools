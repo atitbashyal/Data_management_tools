{
 "cells": [
  {
   "cell_type": "markdown",
   "metadata": {},
   "source": [
    "# User defined objects in Python"
   ]
  },
  {
   "cell_type": "markdown",
   "metadata": {},
   "source": [
    "## Tutorial codes"
   ]
  },
  {
   "cell_type": "markdown",
   "metadata": {},
   "source": [
    "### Functions"
   ]
  },
  {
   "cell_type": "markdown",
   "metadata": {},
   "source": [
    "defining a function"
   ]
  },
  {
   "cell_type": "code",
   "execution_count": 2,
   "metadata": {},
   "outputs": [],
   "source": [
    "def greeting(language):\n",
    "\tif language=='eng': \n",
    "\t\treturn 'hello world'\n",
    "\tif language =='fr':\n",
    "\t\treturn 'Bonjour le monde'\n",
    "\telse: \t\n",
    "\t\treturn 'language not supported'"
   ]
  },
  {
   "cell_type": "markdown",
   "metadata": {},
   "source": [
    "functions are objects, so like any other objects (e.g strings), we can include them in other objects like lists. "
   ]
  },
  {
   "cell_type": "code",
   "execution_count": 3,
   "metadata": {},
   "outputs": [],
   "source": [
    "l= [greeting('eng'), greeting('fr'), greeting('ger')]"
   ]
  },
  {
   "cell_type": "code",
   "execution_count": 4,
   "metadata": {},
   "outputs": [
    {
     "name": "stdout",
     "output_type": "stream",
     "text": [
      "Bonjour le monde\n"
     ]
    }
   ],
   "source": [
    "print(l[1])"
   ]
  },
  {
   "cell_type": "code",
   "execution_count": 13,
   "metadata": {},
   "outputs": [],
   "source": [
    "def call(f):\n",
    "    language = 'eng' \n",
    "    return (f(language))  \n",
    "\n"
   ]
  },
  {
   "cell_type": "code",
   "execution_count": 15,
   "metadata": {},
   "outputs": [
    {
     "data": {
      "text/plain": [
       "'hello world'"
      ]
     },
     "execution_count": 15,
     "metadata": {},
     "output_type": "execute_result"
    }
   ],
   "source": [
    "call(greeting)"
   ]
  },
  {
   "cell_type": "markdown",
   "metadata": {},
   "source": [
    "#### higher order functions \n",
    "\n",
    "These class of functions take other functions as arguments or return functions as results"
   ]
  },
  {
   "cell_type": "markdown",
   "metadata": {},
   "source": [
    "#### Built-in higher orde functions\n",
    "\n",
    "\n",
    "- map\n",
    "- filer\n",
    "\n",
    "\n",
    "Both these methods take in iterables and apply a defined function on them "
   ]
  },
  {
   "cell_type": "code",
   "execution_count": 16,
   "metadata": {},
   "outputs": [
    {
     "name": "stdout",
     "output_type": "stream",
     "text": [
      "[1, 4, 9, 16]\n"
     ]
    }
   ],
   "source": [
    "nums = [1, 2, 3, 4]\n",
    "squares = map(lambda x: x**2, nums)\n",
    "print(list(squares))\n"
   ]
  },
  {
   "cell_type": "markdown",
   "metadata": {},
   "source": [
    "What is lambda?\n",
    "\n",
    "It is an special Python syntax of defining functions that do  simple math operations on iterable objects. \n",
    "\n",
    "The map function above could have been done the following way also\n",
    "\n"
   ]
  },
  {
   "cell_type": "code",
   "execution_count": 19,
   "metadata": {},
   "outputs": [
    {
     "name": "stdout",
     "output_type": "stream",
     "text": [
      "[1, 4, 9, 16]\n"
     ]
    }
   ],
   "source": [
    "def square(x):\n",
    "    return x**2\n",
    "\n",
    "squares = map(square, nums)  # isnt lambda easier?\n",
    "print(list(squares))"
   ]
  },
  {
   "cell_type": "code",
   "execution_count": 24,
   "metadata": {},
   "outputs": [
    {
     "name": "stdout",
     "output_type": "stream",
     "text": [
      "[2, 4]\n"
     ]
    }
   ],
   "source": [
    "evens = filter(lambda x: x % 2 == 0, nums)\n",
    "print(list(evens))\n",
    "\n",
    "\n"
   ]
  },
  {
   "cell_type": "markdown",
   "metadata": {},
   "source": [
    "####  higher order functions vs list comprehensation\n",
    "\n",
    "the work of higher order functions like map and filter is easier with list comprehensation \n"
   ]
  },
  {
   "cell_type": "code",
   "execution_count": 22,
   "metadata": {},
   "outputs": [
    {
     "name": "stdout",
     "output_type": "stream",
     "text": [
      "[1, 4, 9, 16]\n"
     ]
    }
   ],
   "source": [
    "squares = [x**2 for x in nums] \n",
    "print(squares)"
   ]
  },
  {
   "cell_type": "markdown",
   "metadata": {},
   "source": [
    "#### User defined higher order functions\n",
    "\n",
    "any user defined function that takes in functions as arguments or returns functions. \n",
    "Lets see how we can change the sorted() method to a user defined high order function.\n",
    "\n",
    "Sorted() method takes in an iterable like dictionary and a key in the dictionary to sort . \n",
    "We will pass an function insted of a key to make the method an high order function "
   ]
  },
  {
   "cell_type": "code",
   "execution_count": 25,
   "metadata": {},
   "outputs": [
    {
     "name": "stdout",
     "output_type": "stream",
     "text": [
      "[['flour', 1.9, 5], ['rice', 2.4, 8], ['corn', 4.7, 6]]\n"
     ]
    }
   ],
   "source": [
    "items= [[\"rice\", 2.4, 8], [\"flour\", 1.9, 5], [\"corn\", 4.7, 6]]\n",
    "\n",
    "items.sort(key=lambda item: item[1])\n",
    "\n",
    "print(items)"
   ]
  },
  {
   "cell_type": "code",
   "execution_count": 27,
   "metadata": {},
   "outputs": [
    {
     "name": "stdout",
     "output_type": "stream",
     "text": [
      "[{'name': 'flour', 'price': 1.9, 'qty': 5}, {'name': 'rice', 'price': 2.4, 'qty': 8}, {'name': 'corn', 'price': 4.7, 'qty': 6}]\n"
     ]
    }
   ],
   "source": [
    "items = [\n",
    "    {\"name\": \"rice\", \"price\": 2.4, \"qty\": 8},\n",
    "    {\"name\": \"flour\", \"price\": 1.9, \"qty\": 5},\n",
    "    {\"name\": \"corn\", \"price\": 4.7, \"qty\": 6}\n",
    "]\n",
    "# Sort by price\n",
    "sorted_dict = sorted(items, key=lambda item: item[\"price\"])\n",
    "print(sorted_dict )\n"
   ]
  },
  {
   "cell_type": "markdown",
   "metadata": {},
   "source": [
    "#### Functions vs Generators \n",
    "\n",
    "Generator objects does not create the entire data to be returned, but rather creates data on demand\n",
    "\n",
    "the flowing function and generator are built to generate odd numbers between two specified numbers. \n",
    "Let's see if it is efficient to use a function or generator in such cases by timing how long it takes to generate these numbers and sum them"
   ]
  },
  {
   "cell_type": "code",
   "execution_count": 34,
   "metadata": {},
   "outputs": [
    {
     "name": "stdout",
     "output_type": "stream",
     "text": [
      "Time to build and sum a list: 0.189573 \n"
     ]
    }
   ],
   "source": [
    "import time \n",
    "# function to build a list odd numbers between n and m \n",
    "def oddLst(n,m): \n",
    "    lst = []\n",
    "    while n<m: \n",
    "        lst.append(n) \n",
    "        n+=2\n",
    "    return lst\n",
    "\n",
    "#the time it takes to build and sum a list \n",
    "t1=time.time()\n",
    "\n",
    "sum(oddLst(1,1000000))\n",
    "\n",
    "print(\"Time to build and sum a list: %f \" % (time.time() - t1))\n",
    "\n",
    "\n",
    "\n"
   ]
  },
  {
   "cell_type": "code",
   "execution_count": 36,
   "metadata": {},
   "outputs": [
    {
     "name": "stdout",
     "output_type": "stream",
     "text": [
      "Time to sum an iterator: 0.043409 \n"
     ]
    }
   ],
   "source": [
    "# Generaator to build a list odd numbers between n and m \n",
    "\n",
    "def oddGen(n,m):\n",
    "    while n<m:\n",
    "        yield n\n",
    "        n += 2\n",
    "\n",
    "#the time it takes to perform sum on an iterator \n",
    "t1 = time.time()\n",
    "\n",
    "sum(oddGen(1,1000000))\n",
    "\n",
    "print(\"Time to sum an iterator: %f \" % (time.time() - t1))\n"
   ]
  },
  {
   "cell_type": "markdown",
   "metadata": {},
   "source": [
    "you see that there is significaat diference!!! as in case of list we iterate through all the numbers first and then preform the sum."
   ]
  },
  {
   "cell_type": "markdown",
   "metadata": {},
   "source": [
    "We can also create geneator objects using a generator expressions, that look similar to list comprehension.  \n"
   ]
  },
  {
   "cell_type": "code",
   "execution_count": 39,
   "metadata": {},
   "outputs": [
    {
     "name": "stdout",
     "output_type": "stream",
     "text": [
      "<generator object <genexpr> at 0x7ff6e0c47e50>\n",
      "25\n"
     ]
    }
   ],
   "source": [
    "gen1 = (x for x in range(10) if x%2==1) \n",
    "\n",
    "print(gen1)\n",
    "print(sum(gen1))"
   ]
  },
  {
   "cell_type": "markdown",
   "metadata": {},
   "source": [
    "#### Recursive Functions"
   ]
  },
  {
   "cell_type": "code",
   "execution_count": 40,
   "metadata": {},
   "outputs": [
    {
     "name": "stdout",
     "output_type": "stream",
     "text": [
      "print values using iteration\n",
      "2\n",
      "3\n",
      "4\n",
      "5\n",
      "6\n",
      "7\n",
      "8\n",
      "9\n",
      "10\n",
      "print values using recursion\n",
      "2\n",
      "3\n",
      "4\n",
      "5\n",
      "6\n",
      "7\n",
      "8\n",
      "9\n",
      "10\n"
     ]
    }
   ],
   "source": [
    "def iterTest(low, high):\n",
    "\twhile low<= high:\n",
    "\t\tprint(low)\n",
    "\t\tlow = low+1\n",
    "\n",
    "def recurTest (low, high):\n",
    "\tif low <= high:\n",
    "\t\tprint(low)\n",
    "\t\trecurTest(low+1, high)\t\t\n",
    "\n",
    "\n",
    "print(\"print values using iteration\")\n",
    "iterTest(2, 10)\n",
    "\n",
    "print(\"print values using recursion\")\n",
    "recurTest(2, 10)"
   ]
  },
  {
   "cell_type": "markdown",
   "metadata": {},
   "source": [
    "### Class objects\n",
    "\n",
    "\n",
    "definition of class"
   ]
  },
  {
   "cell_type": "code",
   "execution_count": 41,
   "metadata": {},
   "outputs": [],
   "source": [
    "class Smartphone:\n",
    " # Class attribute\n",
    "    device_type = \"Smartphone\"\n",
    " # Constructor\n",
    "    def __init__(self,color, software,company):\n",
    "        self. color = color          # Instance attribute\n",
    "        self. software = software\n",
    "        self. company = company\n"
   ]
  },
  {
   "cell_type": "markdown",
   "metadata": {},
   "source": [
    "adding methods"
   ]
  },
  {
   "cell_type": "code",
   "execution_count": 67,
   "metadata": {},
   "outputs": [],
   "source": [
    "class Smartphone:\n",
    " # Class attribute\n",
    "    device_type = \"Smartphone\"\n",
    " # Constructor\n",
    "    def __init__(self,color, software,company):\n",
    "        self. color = color          # Instance attribute\n",
    "        self. software = software\n",
    "        self. company = company\n",
    "\n",
    "    # Instance method to watch video\n",
    "    def watch_video(self, videoname):\n",
    "        if videoname :\n",
    "            print('opening video',videoname)\n"
   ]
  },
  {
   "cell_type": "markdown",
   "metadata": {},
   "source": [
    "Now that we created the blueprint of the class we start making class objects by using the class\n",
    "\n",
    "We will make 2 class objects"
   ]
  },
  {
   "cell_type": "code",
   "execution_count": 68,
   "metadata": {},
   "outputs": [],
   "source": [
    "Iphone = Smartphone('black', 'IOS10.4', 'Apple')\n",
    "Galaxy = Smartphone('rose gold', 'Andriod4.0', 'Samsung')\n"
   ]
  },
  {
   "cell_type": "code",
   "execution_count": 69,
   "metadata": {},
   "outputs": [
    {
     "data": {
      "text/plain": [
       "'black'"
      ]
     },
     "execution_count": 69,
     "metadata": {},
     "output_type": "execute_result"
    }
   ],
   "source": [
    "Iphone.color"
   ]
  },
  {
   "cell_type": "code",
   "execution_count": 70,
   "metadata": {},
   "outputs": [
    {
     "data": {
      "text/plain": [
       "'Samsung'"
      ]
     },
     "execution_count": 70,
     "metadata": {},
     "output_type": "execute_result"
    }
   ],
   "source": [
    "Galaxy.company"
   ]
  },
  {
   "cell_type": "code",
   "execution_count": 72,
   "metadata": {},
   "outputs": [
    {
     "name": "stdout",
     "output_type": "stream",
     "text": [
      "opening video cats\n"
     ]
    }
   ],
   "source": [
    "Iphone.watch_video('cats')"
   ]
  },
  {
   "cell_type": "markdown",
   "metadata": {},
   "source": [
    "#### Inheritance in class\n",
    "\n",
    "Allows a new class (child) to inherit attributes and methods from another existing class (parent).\n",
    "\n",
    "lets make a smarttaablet class using the smartphone class as the parent"
   ]
  },
  {
   "cell_type": "code",
   "execution_count": 92,
   "metadata": {},
   "outputs": [],
   "source": [
    "class SmartTablet(Smartphone):\n",
    "    device_type = 'smartTablet'\n",
    "\n",
    "    def __init__(self, color, software, company, screensize):\n",
    "        super().__init__(color, software, company) # allows inheritance and inatilizes attributes from parent \n",
    "        self.screensize = screensize\n",
    "\n",
    "    def play_game(self,gamename):\n",
    "        if gamename:\n",
    "            print('starting game',gamename)\n"
   ]
  },
  {
   "cell_type": "code",
   "execution_count": 93,
   "metadata": {},
   "outputs": [],
   "source": [
    "Ipad = SmartTablet('black', 'IOS10.4', 'Apple','13 inch')"
   ]
  },
  {
   "cell_type": "code",
   "execution_count": 94,
   "metadata": {},
   "outputs": [
    {
     "data": {
      "text/plain": [
       "'black'"
      ]
     },
     "execution_count": 94,
     "metadata": {},
     "output_type": "execute_result"
    }
   ],
   "source": [
    "Ipad.color"
   ]
  },
  {
   "cell_type": "code",
   "execution_count": 95,
   "metadata": {},
   "outputs": [
    {
     "data": {
      "text/plain": [
       "'13 inch'"
      ]
     },
     "execution_count": 95,
     "metadata": {},
     "output_type": "execute_result"
    }
   ],
   "source": [
    "Ipad.screensize"
   ]
  },
  {
   "cell_type": "code",
   "execution_count": 96,
   "metadata": {},
   "outputs": [
    {
     "name": "stdout",
     "output_type": "stream",
     "text": [
      "starting game fall guys\n"
     ]
    }
   ],
   "source": [
    "Ipad.play_game('fall guys')"
   ]
  },
  {
   "cell_type": "code",
   "execution_count": 97,
   "metadata": {},
   "outputs": [
    {
     "name": "stdout",
     "output_type": "stream",
     "text": [
      "opening video guitar tutorial\n"
     ]
    }
   ],
   "source": [
    "Ipad.watch_video('guitar tutorial') # method inherited from parent"
   ]
  },
  {
   "cell_type": "markdown",
   "metadata": {},
   "source": [
    "### Class methods \n",
    "\n",
    "Class methods are methods that dont need specific instances to run as they are based on class attibutes. "
   ]
  },
  {
   "cell_type": "code",
   "execution_count": 98,
   "metadata": {},
   "outputs": [],
   "source": [
    "class SmartTablet(Smartphone):\n",
    "    device_type = 'smartTablet'\n",
    "\n",
    "    def __init__(self, color, software, company, screensize):\n",
    "        super().__init__(color, software, company) # allows inheritance and inatilizes attributes from parent \n",
    "        self.screensize = screensize\n",
    "\n",
    "    def play_game(self,gamename):\n",
    "        if gamename:\n",
    "            print('starting game',gamename)\n",
    "\n",
    "    @classmethod\n",
    "    def get_devicetype(cls):\n",
    "        return cls.device_type"
   ]
  },
  {
   "cell_type": "code",
   "execution_count": 100,
   "metadata": {},
   "outputs": [
    {
     "data": {
      "text/plain": [
       "'smartTablet'"
      ]
     },
     "execution_count": 100,
     "metadata": {},
     "output_type": "execute_result"
    }
   ],
   "source": [
    "SmartTablet.get_devicetype()\n"
   ]
  },
  {
   "cell_type": "code",
   "execution_count": 104,
   "metadata": {},
   "outputs": [],
   "source": [
    "Ipad = SmartTablet('black', 'IOS10.4', 'Apple','13 inch')"
   ]
  },
  {
   "cell_type": "code",
   "execution_count": 105,
   "metadata": {},
   "outputs": [
    {
     "data": {
      "text/plain": [
       "'smartTablet'"
      ]
     },
     "execution_count": 105,
     "metadata": {},
     "output_type": "execute_result"
    }
   ],
   "source": [
    "Ipad.get_devicetype()"
   ]
  },
  {
   "cell_type": "markdown",
   "metadata": {},
   "source": [
    "#### Static Methods\n",
    "\n",
    "methods that do not depend on instance or definition of class object.\n",
    "\n",
    "\n"
   ]
  },
  {
   "cell_type": "code",
   "execution_count": 109,
   "metadata": {},
   "outputs": [],
   "source": [
    "class SmartTablet(Smartphone):\n",
    "    device_type = 'smartTablet'\n",
    "\n",
    "    def __init__(self, color, software, company, screensize):\n",
    "        super().__init__(color, software, company) # allows inheritance and inatilizes attributes from parent \n",
    "        self.screensize = screensize\n",
    "\n",
    "    def play_game(self,gamename):\n",
    "        if gamename:\n",
    "            print('starting game',gamename)\n",
    "\n",
    "    @classmethod\n",
    "    def get_devicetype(cls):\n",
    "        return cls.device_type\n",
    "    \n",
    "    @staticmethod\n",
    "    def convert_gb_to_mb(gb):\n",
    "        return f\"{gb} Gb in Mb is {gb*1024}\""
   ]
  },
  {
   "cell_type": "code",
   "execution_count": 110,
   "metadata": {},
   "outputs": [],
   "source": [
    "Ipad = SmartTablet('black', 'IOS10.4', 'Apple','13 inch')"
   ]
  },
  {
   "cell_type": "code",
   "execution_count": 111,
   "metadata": {},
   "outputs": [
    {
     "data": {
      "text/plain": [
       "'100 Gb in Mb is 102400'"
      ]
     },
     "execution_count": 111,
     "metadata": {},
     "output_type": "execute_result"
    }
   ],
   "source": [
    "Ipad.convert_gb_to_mb(100)"
   ]
  },
  {
   "cell_type": "markdown",
   "metadata": {},
   "source": [
    "## Activity"
   ]
  },
  {
   "cell_type": "markdown",
   "metadata": {},
   "source": [
    "\n",
    "In this coding activity we will design classes that can be useful for Digital Library Management System. \n",
    "\n",
    "### Tasks\n",
    "\n",
    "#### Base Class\n",
    "Create a class LibraryItem with:\n",
    "- Class attribute: item_type = \"Generic Item\" \n",
    "- init method with attributes: title, author, year\n",
    "\n",
    "#### Inheritance\n",
    "Create subclasses:\n",
    "- Book(LibraryItem) with a new attribute number_of_pages\n",
    "- Magazine(LibraryItem) with a new attributes number_of_pages and issue_number\n",
    "- EBook(LibraryItem) with a new attributes number_of_pages and spefilesize_mb\n",
    "\n",
    "Each subclass should override item_type \"Generic Item\" with the subcalss type (i.e book, magazine) .\n",
    "\n",
    "#### Instance Methods\n",
    "- Add a method to all subclasses get_details() that prints details of the item.\n",
    "\n",
    "- In EBook, add read() → prints \"Opening {title} on screen...\".\n",
    "\n",
    "#### Class Methods\n",
    "- Add a @classmethod library_info() that prints the class item_type.\n",
    "- Add a @staticmethod day_info() that prints todays day (use the time library)\n",
    "\n",
    "#### Creating library items\n",
    "\n",
    "use the following dictionary to initialize different objects and store the objects in a list named LibraryItems\n",
    "\n",
    "`sample_items = [\n",
    "    {\"type\": \"Book\", \"title\": \"Clean Code\", \"author\": \"Robert C. Martin\", \"year\": 2008, \"pages\": 464},\n",
    "    {\"type\": \"Book\", \"title\": \"Python Crash Course\", \"author\": \"Eric Matthes\", \"year\": 2019, \"pages\": 544},\n",
    "    {\"type\": \"Magazine\", \"title\": \"National Geographic\", \"author\": \"Various\", \"year\": 2021, \"issue_number\": 5},\n",
    "    {\"type\": \"Magazine\", \"title\": \"TIME\", \"author\": \"Various\", \"year\": 2015, \"issue_number\": 12},\n",
    "    {\"type\": \"EBook\", \"title\": \"Automate the Boring Stuff\", \"author\": \"Al Sweigart\", \"year\": 2020, \"filesize_mb\": 5},\n",
    "    {\"type\": \"EBook\", \"title\": \"Fluent Python\", \"author\": \"Luciano Ramalho\", \"year\": 2022, \"filesize_mb\": 12}\n",
    "]`\n",
    "\n",
    "#### Using Higher order Functions\n",
    "\n",
    "use map , filer and sort for the following:\n",
    "\n",
    "- map to extract all titles in lower case\n",
    "- filter to filter items published after 2020\n",
    "- sort items by year \n",
    "\n"
   ]
  }
 ],
 "metadata": {
  "kernelspec": {
   "display_name": "base",
   "language": "python",
   "name": "python3"
  },
  "language_info": {
   "codemirror_mode": {
    "name": "ipython",
    "version": 3
   },
   "file_extension": ".py",
   "mimetype": "text/x-python",
   "name": "python",
   "nbconvert_exporter": "python",
   "pygments_lexer": "ipython3",
   "version": "3.7.6"
  },
  "orig_nbformat": 4
 },
 "nbformat": 4,
 "nbformat_minor": 2
}
