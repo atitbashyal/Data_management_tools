{
 "cells": [
  {
   "cell_type": "markdown",
   "metadata": {},
   "source": [
    "# User defined objects in Python"
   ]
  },
  {
   "cell_type": "markdown",
   "metadata": {},
   "source": [
    "## Tutorial codes"
   ]
  },
  {
   "cell_type": "markdown",
   "metadata": {},
   "source": [
    "### Functions"
   ]
  },
  {
   "cell_type": "markdown",
   "metadata": {},
   "source": [
    "defining a function"
   ]
  },
  {
   "cell_type": "code",
   "execution_count": 1,
   "metadata": {},
   "outputs": [],
   "source": [
    "def greeting(language):\n",
    "\tif language=='eng': \n",
    "\t\treturn 'hello world'\n",
    "\tif language =='fr':\n",
    "\t\treturn 'Bonjour le monde'\n",
    "\telse: \t\n",
    "\t\treturn 'language not supported'"
   ]
  },
  {
   "cell_type": "markdown",
   "metadata": {},
   "source": [
    "functions are objects, so like any other objects (e.g strings), we can include them in other objects like lists. "
   ]
  },
  {
   "cell_type": "code",
   "execution_count": 2,
   "metadata": {},
   "outputs": [],
   "source": [
    "l= [greeting('eng'), greeting('fr'), greeting('ger')]"
   ]
  },
  {
   "cell_type": "code",
   "execution_count": 3,
   "metadata": {},
   "outputs": [
    {
     "name": "stdout",
     "output_type": "stream",
     "text": [
      "Bonjour le monde\n"
     ]
    }
   ],
   "source": [
    "print(l[1])"
   ]
  },
  {
   "cell_type": "code",
   "execution_count": 4,
   "metadata": {},
   "outputs": [],
   "source": [
    "def call(f):\n",
    "    language = 'eng' \n",
    "    return (f(language))  \n",
    "\n"
   ]
  },
  {
   "cell_type": "code",
   "execution_count": 5,
   "metadata": {},
   "outputs": [
    {
     "data": {
      "text/plain": [
       "'hello world'"
      ]
     },
     "execution_count": 5,
     "metadata": {},
     "output_type": "execute_result"
    }
   ],
   "source": [
    "call(greeting)"
   ]
  },
  {
   "cell_type": "markdown",
   "metadata": {},
   "source": [
    "#### higher order functions \n",
    "\n",
    "These class of functions take other functions as arguments or return functions as results"
   ]
  },
  {
   "cell_type": "markdown",
   "metadata": {},
   "source": [
    "#### Built-in higher orde functions\n",
    "\n",
    "\n",
    "- map\n",
    "- filer\n",
    "\n",
    "\n",
    "Both these methods take in iterables and apply a defined function on them "
   ]
  },
  {
   "cell_type": "code",
   "execution_count": 6,
   "metadata": {},
   "outputs": [
    {
     "name": "stdout",
     "output_type": "stream",
     "text": [
      "[1, 4, 9, 16]\n"
     ]
    }
   ],
   "source": [
    "nums = [1, 2, 3, 4]\n",
    "squares = map(lambda x: x**2, nums)\n",
    "print(list(squares))\n"
   ]
  },
  {
   "cell_type": "markdown",
   "metadata": {},
   "source": [
    "What is lambda?\n",
    "\n",
    "It is an special Python syntax of defining functions that do  simple math operations on iterable objects. \n",
    "\n",
    "The map function above could have been done the following way also\n",
    "\n"
   ]
  },
  {
   "cell_type": "code",
   "execution_count": 7,
   "metadata": {},
   "outputs": [
    {
     "name": "stdout",
     "output_type": "stream",
     "text": [
      "[1, 4, 9, 16]\n"
     ]
    }
   ],
   "source": [
    "def square(x):\n",
    "    return x**2\n",
    "\n",
    "squares = map(square, nums)  # isnt lambda easier?\n",
    "print(list(squares))"
   ]
  },
  {
   "cell_type": "code",
   "execution_count": 8,
   "metadata": {},
   "outputs": [
    {
     "name": "stdout",
     "output_type": "stream",
     "text": [
      "[2, 4]\n"
     ]
    }
   ],
   "source": [
    "evens = filter(lambda x: x % 2 == 0, nums)\n",
    "print(list(evens))\n",
    "\n",
    "\n"
   ]
  },
  {
   "cell_type": "markdown",
   "metadata": {},
   "source": [
    "####  higher order functions vs list comprehensation\n",
    "\n",
    "the work of higher order functions like map and filter is easier with list comprehensation \n"
   ]
  },
  {
   "cell_type": "code",
   "execution_count": 9,
   "metadata": {},
   "outputs": [
    {
     "name": "stdout",
     "output_type": "stream",
     "text": [
      "[1, 4, 9, 16]\n"
     ]
    }
   ],
   "source": [
    "squares = [x**2 for x in nums] \n",
    "print(squares)"
   ]
  },
  {
   "cell_type": "markdown",
   "metadata": {},
   "source": [
    "#### User defined higher order functions\n",
    "\n",
    "any user defined function that takes in functions as arguments or returns functions. \n",
    "Lets see how we can change the sorted() method to a user defined high order function.\n",
    "\n",
    "Sorted() method takes in an iterable like dictionary and a key in the dictionary to sort . \n",
    "We will pass an function insted of a key to make the method an high order function "
   ]
  },
  {
   "cell_type": "code",
   "execution_count": 10,
   "metadata": {},
   "outputs": [
    {
     "name": "stdout",
     "output_type": "stream",
     "text": [
      "[['flour', 1.9, 5], ['rice', 2.4, 8], ['corn', 4.7, 6]]\n"
     ]
    }
   ],
   "source": [
    "items= [[\"rice\", 2.4, 8], [\"flour\", 1.9, 5], [\"corn\", 4.7, 6]]\n",
    "\n",
    "items.sort(key=lambda item: item[1])\n",
    "\n",
    "print(items)"
   ]
  },
  {
   "cell_type": "code",
   "execution_count": 11,
   "metadata": {},
   "outputs": [
    {
     "name": "stdout",
     "output_type": "stream",
     "text": [
      "[{'name': 'flour', 'price': 1.9, 'qty': 5}, {'name': 'rice', 'price': 2.4, 'qty': 8}, {'name': 'corn', 'price': 4.7, 'qty': 6}]\n"
     ]
    }
   ],
   "source": [
    "items = [\n",
    "    {\"name\": \"rice\", \"price\": 2.4, \"qty\": 8},\n",
    "    {\"name\": \"flour\", \"price\": 1.9, \"qty\": 5},\n",
    "    {\"name\": \"corn\", \"price\": 4.7, \"qty\": 6}\n",
    "]\n",
    "# Sort by price\n",
    "sorted_dict = sorted(items, key=lambda item: item[\"price\"])\n",
    "print(sorted_dict )\n"
   ]
  },
  {
   "cell_type": "markdown",
   "metadata": {},
   "source": [
    "#### Functions vs Generators \n",
    "\n",
    "Generator objects does not create the entire data to be returned, but rather creates data on demand\n",
    "\n",
    "the flowing function and generator are built to generate odd numbers between two specified numbers. \n",
    "Let's see if it is efficient to use a function or generator in such cases by timing how long it takes to generate these numbers and sum them"
   ]
  },
  {
   "cell_type": "code",
   "execution_count": 12,
   "metadata": {},
   "outputs": [
    {
     "name": "stdout",
     "output_type": "stream",
     "text": [
      "Time to build and sum a list: 0.099172 \n"
     ]
    }
   ],
   "source": [
    "import time \n",
    "# function to build a list odd numbers between n and m \n",
    "def oddLst(n,m): \n",
    "    lst = []\n",
    "    while n<m: \n",
    "        lst.append(n) \n",
    "        n+=2\n",
    "    return lst\n",
    "\n",
    "#the time it takes to build and sum a list \n",
    "t1=time.time()\n",
    "\n",
    "sum(oddLst(1,1000000))\n",
    "\n",
    "print(\"Time to build and sum a list: %f \" % (time.time() - t1))\n",
    "\n",
    "\n",
    "\n"
   ]
  },
  {
   "cell_type": "code",
   "execution_count": 13,
   "metadata": {},
   "outputs": [
    {
     "name": "stdout",
     "output_type": "stream",
     "text": [
      "Time to sum an iterator: 0.048383 \n"
     ]
    }
   ],
   "source": [
    "# Generaator to build a list odd numbers between n and m \n",
    "\n",
    "def oddGen(n,m):\n",
    "    while n<m:\n",
    "        yield n\n",
    "        n += 2\n",
    "\n",
    "#the time it takes to perform sum on an iterator \n",
    "t1 = time.time()\n",
    "\n",
    "sum(oddGen(1,1000000))\n",
    "\n",
    "print(\"Time to sum an iterator: %f \" % (time.time() - t1))\n"
   ]
  },
  {
   "cell_type": "markdown",
   "metadata": {},
   "source": [
    "you see that there is significaat diference!!! as in case of list we iterate through all the numbers first and then preform the sum."
   ]
  },
  {
   "cell_type": "markdown",
   "metadata": {},
   "source": [
    "We can also create geneator objects using a generator expressions, that look similar to list comprehension.  \n"
   ]
  },
  {
   "cell_type": "code",
   "execution_count": 14,
   "metadata": {},
   "outputs": [
    {
     "name": "stdout",
     "output_type": "stream",
     "text": [
      "<generator object <genexpr> at 0x107e7b300>\n",
      "25\n"
     ]
    }
   ],
   "source": [
    "gen1 = (x for x in range(10) if x%2==1) \n",
    "\n",
    "print(gen1)\n",
    "print(sum(gen1))"
   ]
  },
  {
   "cell_type": "markdown",
   "metadata": {},
   "source": [
    "#### Recursive Functions"
   ]
  },
  {
   "cell_type": "code",
   "execution_count": 15,
   "metadata": {},
   "outputs": [
    {
     "name": "stdout",
     "output_type": "stream",
     "text": [
      "print values using iteration\n",
      "2\n",
      "3\n",
      "4\n",
      "5\n",
      "6\n",
      "7\n",
      "8\n",
      "9\n",
      "10\n",
      "print values using recursion\n",
      "2\n",
      "3\n",
      "4\n",
      "5\n",
      "6\n",
      "7\n",
      "8\n",
      "9\n",
      "10\n"
     ]
    }
   ],
   "source": [
    "def iterTest(low, high):\n",
    "\twhile low<= high:\n",
    "\t\tprint(low)\n",
    "\t\tlow = low+1\n",
    "\n",
    "def recurTest (low, high):\n",
    "\tif low <= high:\n",
    "\t\tprint(low)\n",
    "\t\trecurTest(low+1, high)\t\t\n",
    "\n",
    "\n",
    "print(\"print values using iteration\")\n",
    "iterTest(2, 10)\n",
    "\n",
    "print(\"print values using recursion\")\n",
    "recurTest(2, 10)"
   ]
  },
  {
   "cell_type": "markdown",
   "metadata": {},
   "source": [
    "### Class objects\n",
    "\n",
    "\n",
    "definition of class"
   ]
  },
  {
   "cell_type": "code",
   "execution_count": 16,
   "metadata": {},
   "outputs": [],
   "source": [
    "class Smartphone:\n",
    " # Class attribute\n",
    "    device_type = \"Smartphone\"\n",
    " # Constructor\n",
    "    def __init__(self,color, software,company):\n",
    "        self. color = color          # Instance attribute\n",
    "        self. software = software\n",
    "        self. company = company\n"
   ]
  },
  {
   "cell_type": "markdown",
   "metadata": {},
   "source": [
    "adding methods"
   ]
  },
  {
   "cell_type": "code",
   "execution_count": 17,
   "metadata": {},
   "outputs": [],
   "source": [
    "class Smartphone:\n",
    " # Class attribute\n",
    "    device_type = \"Smartphone\"\n",
    " # Constructor\n",
    "    def __init__(self,color, software,company):\n",
    "        self. color = color          # Instance attribute\n",
    "        self. software = software\n",
    "        self. company = company\n",
    "\n",
    "    # Instance method to watch video\n",
    "    def watch_video(self, videoname):\n",
    "        if videoname :\n",
    "            print('opening video',videoname)\n"
   ]
  },
  {
   "cell_type": "markdown",
   "metadata": {},
   "source": [
    "Now that we created the blueprint of the class we start making class objects by using the class\n",
    "\n",
    "We will make 2 class objects"
   ]
  },
  {
   "cell_type": "code",
   "execution_count": 18,
   "metadata": {},
   "outputs": [],
   "source": [
    "Iphone = Smartphone('black', 'IOS10.4', 'Apple')\n",
    "Galaxy = Smartphone('rose gold', 'Andriod4.0', 'Samsung')\n"
   ]
  },
  {
   "cell_type": "code",
   "execution_count": 19,
   "metadata": {},
   "outputs": [
    {
     "data": {
      "text/plain": [
       "'black'"
      ]
     },
     "execution_count": 19,
     "metadata": {},
     "output_type": "execute_result"
    }
   ],
   "source": [
    "Iphone.color"
   ]
  },
  {
   "cell_type": "code",
   "execution_count": 20,
   "metadata": {},
   "outputs": [
    {
     "data": {
      "text/plain": [
       "'Samsung'"
      ]
     },
     "execution_count": 20,
     "metadata": {},
     "output_type": "execute_result"
    }
   ],
   "source": [
    "Galaxy.company"
   ]
  },
  {
   "cell_type": "code",
   "execution_count": 21,
   "metadata": {},
   "outputs": [
    {
     "name": "stdout",
     "output_type": "stream",
     "text": [
      "opening video cats\n"
     ]
    }
   ],
   "source": [
    "Iphone.watch_video('cats')"
   ]
  },
  {
   "cell_type": "markdown",
   "metadata": {},
   "source": [
    "#### Inheritance in class\n",
    "\n",
    "Allows a new class (child) to inherit attributes and methods from another existing class (parent).\n",
    "\n",
    "lets make a smarttaablet class using the smartphone class as the parent"
   ]
  },
  {
   "cell_type": "code",
   "execution_count": 22,
   "metadata": {},
   "outputs": [],
   "source": [
    "class SmartTablet(Smartphone):\n",
    "    device_type = 'smartTablet'\n",
    "\n",
    "    def __init__(self, color, software, company, screensize):\n",
    "        super().__init__(color, software, company) # allows inheritance and inatilizes attributes from parent \n",
    "        self.screensize = screensize\n",
    "\n",
    "    def play_game(self,gamename):\n",
    "        if gamename:\n",
    "            print('starting game',gamename)\n"
   ]
  },
  {
   "cell_type": "code",
   "execution_count": 23,
   "metadata": {},
   "outputs": [],
   "source": [
    "Ipad = SmartTablet('black', 'IOS10.4', 'Apple','13 inch')"
   ]
  },
  {
   "cell_type": "code",
   "execution_count": 24,
   "metadata": {},
   "outputs": [
    {
     "data": {
      "text/plain": [
       "'black'"
      ]
     },
     "execution_count": 24,
     "metadata": {},
     "output_type": "execute_result"
    }
   ],
   "source": [
    "Ipad.color"
   ]
  },
  {
   "cell_type": "code",
   "execution_count": 25,
   "metadata": {},
   "outputs": [
    {
     "data": {
      "text/plain": [
       "'13 inch'"
      ]
     },
     "execution_count": 25,
     "metadata": {},
     "output_type": "execute_result"
    }
   ],
   "source": [
    "Ipad.screensize"
   ]
  },
  {
   "cell_type": "code",
   "execution_count": 26,
   "metadata": {},
   "outputs": [
    {
     "name": "stdout",
     "output_type": "stream",
     "text": [
      "starting game fall guys\n"
     ]
    }
   ],
   "source": [
    "Ipad.play_game('fall guys')"
   ]
  },
  {
   "cell_type": "code",
   "execution_count": 27,
   "metadata": {},
   "outputs": [
    {
     "name": "stdout",
     "output_type": "stream",
     "text": [
      "opening video guitar tutorial\n"
     ]
    }
   ],
   "source": [
    "Ipad.watch_video('guitar tutorial') # method inherited from parent"
   ]
  },
  {
   "cell_type": "markdown",
   "metadata": {},
   "source": [
    "### Class methods \n",
    "\n",
    "Class methods are methods that dont need specific instances to run as they are based on class attibutes. "
   ]
  },
  {
   "cell_type": "code",
   "execution_count": 28,
   "metadata": {},
   "outputs": [],
   "source": [
    "class SmartTablet(Smartphone):\n",
    "    device_type = 'smartTablet'\n",
    "\n",
    "    def __init__(self, color, software, company, screensize):\n",
    "        super().__init__(color, software, company) # allows inheritance and inatilizes attributes from parent \n",
    "        self.screensize = screensize\n",
    "\n",
    "    def play_game(self,gamename):\n",
    "        if gamename:\n",
    "            print('starting game',gamename)\n",
    "\n",
    "    @classmethod\n",
    "    def get_devicetype(cls):\n",
    "        return cls.device_type"
   ]
  },
  {
   "cell_type": "code",
   "execution_count": 29,
   "metadata": {},
   "outputs": [
    {
     "data": {
      "text/plain": [
       "'smartTablet'"
      ]
     },
     "execution_count": 29,
     "metadata": {},
     "output_type": "execute_result"
    }
   ],
   "source": [
    "SmartTablet.get_devicetype()\n"
   ]
  },
  {
   "cell_type": "code",
   "execution_count": 30,
   "metadata": {},
   "outputs": [],
   "source": [
    "Ipad = SmartTablet('black', 'IOS10.4', 'Apple','13 inch')"
   ]
  },
  {
   "cell_type": "code",
   "execution_count": 31,
   "metadata": {},
   "outputs": [
    {
     "data": {
      "text/plain": [
       "'smartTablet'"
      ]
     },
     "execution_count": 31,
     "metadata": {},
     "output_type": "execute_result"
    }
   ],
   "source": [
    "Ipad.get_devicetype()"
   ]
  },
  {
   "cell_type": "markdown",
   "metadata": {},
   "source": [
    "#### Static Methods\n",
    "\n",
    "methods that do not depend on instance or definition of class object.\n",
    "\n",
    "\n"
   ]
  },
  {
   "cell_type": "code",
   "execution_count": 32,
   "metadata": {},
   "outputs": [],
   "source": [
    "class SmartTablet(Smartphone):\n",
    "    device_type = 'smartTablet'\n",
    "\n",
    "    def __init__(self, color, software, company, screensize):\n",
    "        super().__init__(color, software, company) # allows inheritance and inatilizes attributes from parent \n",
    "        self.screensize = screensize\n",
    "\n",
    "    def play_game(self,gamename):\n",
    "        if gamename:\n",
    "            print('starting game',gamename)\n",
    "\n",
    "    @classmethod\n",
    "    def get_devicetype(cls):\n",
    "        return cls.device_type\n",
    "    \n",
    "    @staticmethod\n",
    "    def convert_gb_to_mb(gb):\n",
    "        return f\"{gb} Gb in Mb is {gb*1024}\""
   ]
  },
  {
   "cell_type": "code",
   "execution_count": 33,
   "metadata": {},
   "outputs": [],
   "source": [
    "Ipad = SmartTablet('black', 'IOS10.4', 'Apple','13 inch')"
   ]
  },
  {
   "cell_type": "code",
   "execution_count": 34,
   "metadata": {},
   "outputs": [
    {
     "data": {
      "text/plain": [
       "'100 Gb in Mb is 102400'"
      ]
     },
     "execution_count": 34,
     "metadata": {},
     "output_type": "execute_result"
    }
   ],
   "source": [
    "Ipad.convert_gb_to_mb(100)"
   ]
  },
  {
   "cell_type": "markdown",
   "metadata": {},
   "source": [
    "## Activity"
   ]
  },
  {
   "cell_type": "markdown",
   "metadata": {},
   "source": [
    "\n",
    "In this coding activity we will design classes that can be useful for Digital Library Management System. \n",
    "\n",
    "### Tasks\n",
    "\n",
    "#### Base Class\n",
    "Create a class LibraryItem with:\n",
    "- Class attribute: item_type = \"Generic Item\" \n",
    "- init method with attributes: title, author, year\n",
    "\n",
    "#### Inheritance\n",
    "Create subclasses:\n",
    "- Book(LibraryItem) with a new attribute number_of_pages\n",
    "- Magazine(LibraryItem) with a new attributes number_of_pages and issue_number\n",
    "- EBook(LibraryItem) with a new attributes number_of_pages and spefilesize_mb\n",
    "\n",
    "Each subclass should override item_type \"Generic Item\" with the subcalss type (i.e book, magazine) .\n",
    "\n",
    "#### Instance Methods\n",
    "- Add a method to all subclasses get_details() that prints details of the item.\n",
    "\n",
    "- In EBook, add read() → prints \"Opening {title} on screen...\".\n",
    "\n",
    "#### Class Methods\n",
    "- Add a @classmethod library_info() that prints the class item_type.\n",
    "- Add a @staticmethod day_info() that prints todays day (use the time library)\n",
    "\n",
    "#### Creating library items\n",
    "\n",
    "use the following dictionary to initialize different objects and store the objects in a list named LibraryItems\n",
    "\n",
    "`sample_items = [\n",
    "    {\"type\": \"Book\", \"title\": \"Clean Code\", \"author\": \"Robert C. Martin\", \"year\": 2008, \"pages\": 464},\n",
    "    {\"type\": \"Book\", \"title\": \"Python Crash Course\", \"author\": \"Eric Matthes\", \"year\": 2019, \"pages\": 544},\n",
    "    {\"type\": \"Magazine\", \"title\": \"National Geographic\", \"author\": \"Various\", \"year\": 2021, \"issue_number\": 5},\n",
    "    {\"type\": \"Magazine\", \"title\": \"TIME\", \"author\": \"Various\", \"year\": 2015, \"issue_number\": 12},\n",
    "    {\"type\": \"EBook\", \"title\": \"Automate the Boring Stuff\", \"author\": \"Al Sweigart\", \"year\": 2020, \"filesize_mb\": 5},\n",
    "    {\"type\": \"EBook\", \"title\": \"Fluent Python\", \"author\": \"Luciano Ramalho\", \"year\": 2022, \"filesize_mb\": 12}\n",
    "]`\n",
    "\n",
    "#### Using Higher order Functions\n",
    "\n",
    "use map , filer and sort for the following:\n",
    "\n",
    "- map to extract all titles in lower case\n",
    "- filter to filter items published after 2020\n",
    "- sort items by year \n",
    "\n"
   ]
  },
  {
   "cell_type": "code",
   "execution_count": 35,
   "metadata": {},
   "outputs": [],
   "source": [
    "import time\n",
    "\n",
    "# ===== Base Class =====\n",
    "class LibraryItem:\n",
    "    item_type = \"Generic Item\"\n",
    "\n",
    "    def __init__(self, title, author, year):\n",
    "        self.title = title\n",
    "        self.author = author\n",
    "        self.year = year\n",
    "\n",
    "    @classmethod\n",
    "    def library_info(cls):\n",
    "        print(f\"Library item type: {cls.item_type}\")\n",
    "\n",
    "    @staticmethod\n",
    "    def day_info():\n",
    "        print(f\"Today is: {time.strftime('%A')}\")\n",
    "\n",
    "# ===== Subclasses =====\n",
    "class Book(LibraryItem):\n",
    "    item_type = \"Book\"\n",
    "\n",
    "    def __init__(self, title, author, year, number_of_pages):\n",
    "        super().__init__(title, author, year)\n",
    "        self.number_of_pages = number_of_pages\n",
    "\n",
    "    def get_details(self):\n",
    "        print(f\"[{self.item_type}] '{self.title}' by {self.author} ({self.year}), \"\n",
    "              f\"{self.number_of_pages} pages\")\n",
    "\n",
    "class Magazine(LibraryItem):\n",
    "    item_type = \"Magazine\"\n",
    "\n",
    "    def __init__(self, title, author, year, number_of_pages=None, issue_number=None):\n",
    "        super().__init__(title, author, year)\n",
    "        self.number_of_pages = number_of_pages  # may be unknown in sample data\n",
    "        self.issue_number = issue_number\n",
    "\n",
    "    def get_details(self):\n",
    "        pages = f\", {self.number_of_pages} pages\" if self.number_of_pages is not None else \"\"\n",
    "        issue = f\", Issue #{self.issue_number}\" if self.issue_number is not None else \"\"\n",
    "        print(f\"[{self.item_type}] '{self.title}' by {self.author} ({self.year}){issue}{pages}\")\n",
    "\n",
    "class EBook(LibraryItem):\n",
    "    item_type = \"EBook\"\n",
    "\n",
    "    def __init__(self, title, author, year, number_of_pages=None, filesize_mb=None):\n",
    "        super().__init__(title, author, year)\n",
    "        self.number_of_pages = number_of_pages  # optional; not in sample, but included per spec\n",
    "        self.filesize_mb = filesize_mb\n",
    "\n",
    "    def get_details(self):\n",
    "        pages = f\", {self.number_of_pages} pages\" if self.number_of_pages is not None else \"\"\n",
    "        size = f\", {self.filesize_mb} MB\" if self.filesize_mb is not None else \"\"\n",
    "        print(f\"[{self.item_type}] '{self.title}' by {self.author} ({self.year}){pages}{size}\")\n",
    "\n",
    "    def read(self):\n",
    "        print(f\"Opening '{self.title}' on screen...\")\n",
    "\n",
    "# ===== Creating library items =====\n",
    "sample_items = [\n",
    "    {\"type\": \"Book\", \"title\": \"Clean Code\", \"author\": \"Robert C. Martin\", \"year\": 2008, \"pages\": 464},\n",
    "    {\"type\": \"Book\", \"title\": \"Python Crash Course\", \"author\": \"Eric Matthes\", \"year\": 2019, \"pages\": 544},\n",
    "    {\"type\": \"Magazine\", \"title\": \"National Geographic\", \"author\": \"Various\", \"year\": 2021, \"issue_number\": 5},\n",
    "    {\"type\": \"Magazine\", \"title\": \"TIME\", \"author\": \"Various\", \"year\": 2015, \"issue_number\": 12},\n",
    "    {\"type\": \"EBook\", \"title\": \"Automate the Boring Stuff\", \"author\": \"Al Sweigart\", \"year\": 2020, \"filesize_mb\": 5},\n",
    "    {\"type\": \"EBook\", \"title\": \"Fluent Python\", \"author\": \"Luciano Ramalho\", \"year\": 2022, \"filesize_mb\": 12}\n",
    "]\n",
    "\n",
    "LibraryItems = []\n",
    "\n",
    "for item in sample_items:\n",
    "    t = item[\"type\"]\n",
    "    if t == \"Book\":\n",
    "        obj = Book(\n",
    "            title=item[\"title\"],\n",
    "            author=item[\"author\"],\n",
    "            year=item[\"year\"],\n",
    "            number_of_pages=item.get(\"pages\")\n",
    "        )\n",
    "    elif t == \"Magazine\":\n",
    "        obj = Magazine(\n",
    "            title=item[\"title\"],\n",
    "            author=item[\"author\"],\n",
    "            year=item[\"year\"],\n",
    "            number_of_pages=item.get(\"pages\"),  # not provided in sample; stays None\n",
    "            issue_number=item.get(\"issue_number\")\n",
    "        )\n",
    "    elif t == \"EBook\":\n",
    "        obj = EBook(\n",
    "            title=item[\"title\"],\n",
    "            author=item[\"author\"],\n",
    "            year=item[\"year\"],\n",
    "            number_of_pages=item.get(\"pages\"),  # optional\n",
    "            filesize_mb=item.get(\"filesize_mb\")\n",
    "        )\n",
    "    else:\n",
    "        obj = LibraryItem(item[\"title\"], item[\"author\"], item[\"year\"])\n",
    "\n",
    "    LibraryItems.append(obj)\n",
    "\n",
    "\n"
   ]
  },
  {
   "cell_type": "code",
   "execution_count": 36,
   "metadata": {},
   "outputs": [
    {
     "name": "stdout",
     "output_type": "stream",
     "text": [
      "== Details ==\n",
      "[Book] 'Clean Code' by Robert C. Martin (2008), 464 pages\n",
      "[Book] 'Python Crash Course' by Eric Matthes (2019), 544 pages\n",
      "[Magazine] 'National Geographic' by Various (2021), Issue #5\n",
      "[Magazine] 'TIME' by Various (2015), Issue #12\n",
      "[EBook] 'Automate the Boring Stuff' by Al Sweigart (2020), 5 MB\n",
      "[EBook] 'Fluent Python' by Luciano Ramalho (2022), 12 MB\n",
      "\n",
      "== Class & Static Methods ==\n",
      "Library item type: Book\n",
      "Library item type: Magazine\n",
      "Library item type: EBook\n",
      "Today is: Wednesday\n",
      "\n",
      "== EBook Read Demo ==\n",
      "Opening 'Automate the Boring Stuff' on screen...\n",
      "Opening 'Fluent Python' on screen...\n"
     ]
    }
   ],
   "source": [
    "# ===== Demo: instance/class/static methods =====\n",
    "print(\"== Details ==\")\n",
    "for li in LibraryItems:\n",
    "    # Only subclasses have get_details(); guard for base class just in case\n",
    "    if hasattr(li, \"get_details\"):\n",
    "        li.get_details()\n",
    "    else:\n",
    "        print(f\"[{li.item_type}] '{li.title}' by {li.author} ({li.year})\")\n",
    "\n",
    "print(\"\\n== Class & Static Methods ==\")\n",
    "Book.library_info()\n",
    "Magazine.library_info()\n",
    "EBook.library_info()\n",
    "LibraryItem.day_info()\n",
    "\n",
    "# Demo EBook.read()\n",
    "print(\"\\n== EBook Read Demo ==\")\n",
    "for li in LibraryItems:\n",
    "    if isinstance(li, EBook):\n",
    "        li.read()\n",
    "\n"
   ]
  },
  {
   "cell_type": "code",
   "execution_count": 37,
   "metadata": {},
   "outputs": [
    {
     "name": "stdout",
     "output_type": "stream",
     "text": [
      "\n",
      "== Map: titles in lower case ==\n",
      "['clean code', 'python crash course', 'national geographic', 'time', 'automate the boring stuff', 'fluent python']\n",
      "\n",
      "== Filter: items published after 2020 ==\n",
      "National Geographic (2021)\n",
      "Fluent Python (2022)\n",
      "\n",
      "== Sort: items by year (ascending) ==\n",
      "2008: Clean Code\n",
      "2015: TIME\n",
      "2019: Python Crash Course\n",
      "2020: Automate the Boring Stuff\n",
      "2021: National Geographic\n",
      "2022: Fluent Python\n"
     ]
    }
   ],
   "source": [
    "# ===== Higher-order functions: map, filter, sort =====\n",
    "print(\"\\n== Map: titles in lower case ==\")\n",
    "titles_lower = list(map(lambda x: x.title.lower(), LibraryItems))\n",
    "print(titles_lower)\n",
    "\n",
    "print(\"\\n== Filter: items published after 2020 ==\")\n",
    "after_2020 = list(filter(lambda x: x.year > 2020, LibraryItems))\n",
    "for li in after_2020:\n",
    "    print(f\"{li.title} ({li.year})\")\n",
    "\n",
    "print(\"\\n== Sort: items by year (ascending) ==\")\n",
    "sorted_by_year = sorted(LibraryItems, key=lambda x: x.year)\n",
    "for li in sorted_by_year:\n",
    "    print(f\"{li.year}: {li.title}\")"
   ]
  },
  {
   "cell_type": "markdown",
   "metadata": {},
   "source": []
  }
 ],
 "metadata": {
  "kernelspec": {
   "display_name": "base",
   "language": "python",
   "name": "python3"
  },
  "language_info": {
   "codemirror_mode": {
    "name": "ipython",
    "version": 3
   },
   "file_extension": ".py",
   "mimetype": "text/x-python",
   "name": "python",
   "nbconvert_exporter": "python",
   "pygments_lexer": "ipython3",
   "version": "3.10.6"
  },
  "orig_nbformat": 4
 },
 "nbformat": 4,
 "nbformat_minor": 2
}
