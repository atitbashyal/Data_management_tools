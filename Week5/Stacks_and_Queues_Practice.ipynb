{
 "cells": [
  {
   "cell_type": "markdown",
   "id": "7529411b",
   "metadata": {},
   "source": [
    "# Stacks & Queues — Practice Notebook\n",
    "\n",
    "This notebook gives you hands‑on practice implementing **Stacks** (LIFO) and **Queues** (FIFO) in multiple ways. Note there are severaal difference in the way things are done in this notebook compared to the standarrd python syntax we have seen in previous lectures. \n",
    "\n",
    "- the dataclass decorator automatically generates boilerplate methods (like __init__, __repr__, and __eq__) for classes that mainly store data, making them cleaner and easier to maintain. \n",
    "\n",
    "- The syntax uses typin module to define data types. the typing module lets us annotate variables and function signatures with types (e.g., int, str, List[str]), which doesn’t enforce types at runtime but helps with readability, tooling support (like IDE autocompletion), and static analysis—making our programs safer and easier to reason about."
   ]
  },
  {
   "cell_type": "code",
   "execution_count": 1,
   "id": "4665d80b",
   "metadata": {},
   "outputs": [],
   "source": [
    "\n",
    "from __future__ import annotations\n",
    "from dataclasses import dataclass\n",
    "from typing import Any, Optional, Iterable, List"
   ]
  },
  {
   "cell_type": "markdown",
   "id": "7c20bc57",
   "metadata": {},
   "source": [
    "## Part 1 — Stacks refresher (LIFO)\n",
    "A **stack** lets you add and remove from **one end**: the last item pushed is the first item popped (**LIFO**).\n",
    "Core operations in stacks are: \n",
    "- `push(x)`\n",
    "- `pop() -> x`\n",
    "- `peek() -> x`."
   ]
  },
  {
   "cell_type": "markdown",
   "id": "14219fae",
   "metadata": {},
   "source": [
    "###  Stack via Python list (naïve but handy)\n",
    "\n",
    "In Python, `list.append(x)` behaves like `push`, and `list.pop()` removes the last element.  \n",
    "Implement a thin `ListStack` wrapper and try the provided tests. In Python, a wrapper is a function, class, or object that provides an interface around another function or object, usually to add functionality without changing the original code. Here the ListStack class is a wrapper we build on top of the python List object."
   ]
  },
  {
   "cell_type": "code",
   "execution_count": 14,
   "id": "4665e73c",
   "metadata": {},
   "outputs": [],
   "source": [
    "class ListStack:\n",
    "\n",
    "    def __init__(self):\n",
    "        self._items: List[Any] = []\n",
    "        self.size = 0\n",
    "\n",
    "    def push(self, data: Any) -> None:\n",
    "        self._items.append(data)\n",
    "        self.size += 1\n",
    "\n",
    "    def pop(self) -> Optional[Any]:\n",
    "        if not self._items:\n",
    "            return None\n",
    "        self.size -= 1\n",
    "        return self._items.pop()\n",
    "\n",
    "    def peek(self) -> Optional[Any]:\n",
    "        return self._items[-1] if self._items else None\n",
    "\n",
    "    def __len__(self):\n",
    "        return self.size\n",
    "    \n",
    "    @classmethod\n",
    "    def description(cls) -> str:\n",
    "        return (\n",
    "            f\"{cls.__name__}\"\n",
    "        )"
   ]
  },
  {
   "cell_type": "markdown",
   "id": "f9807a92",
   "metadata": {},
   "source": [
    "## Quick checks\n",
    "\n",
    "When we write code, it is a good idea to write a few assertions to verify that our method behaves correctly. Lets see how we can design an quick check to assert our stack class:\n",
    "- After pushing [1, 2, 3], the length should be 3 and peek() should return the last item 3.\n",
    "- Popping three times should return 3 → 2 → 1 in reverse order (LIFO behavior).\n",
    "- A fourth pop() on an empty stack should return None, and peek() should also return None, with the length back to 0.\n",
    "\n",
    "If all assertions pass, the message \"basic tests: OK\" is printed, confirming the stack implementation works as expected."
   ]
  },
  {
   "cell_type": "code",
   "execution_count": 22,
   "id": "75aad7c5",
   "metadata": {},
   "outputs": [
    {
     "name": "stdout",
     "output_type": "stream",
     "text": [
      "ListStack basic tests: OK\n"
     ]
    }
   ],
   "source": [
    "def quickcheckstack(stackclass):\n",
    "    s = stackclass\n",
    "    for x in [1,2,3]: s.push(x)\n",
    "    assert len(s) == 3 and s.peek() == 3\n",
    "    assert s.pop() == 3 and s.pop() == 2 and s.pop() == 1\n",
    "    assert s.pop() is None and s.peek() is None and len(s) == 0\n",
    "    print(f\"{stackclass.description()} basic tests: OK\")\n",
    "\n",
    "\n",
    "quickcheckstack(ListStack())"
   ]
  },
  {
   "cell_type": "markdown",
   "id": "b19701b4",
   "metadata": {},
   "source": [
    "### Stack via linked nodes\n",
    "While the python List is a easy way to mimic behaviour of stacks, the problem with memoy with lists make it difficult to work with. Therefore to avoid memory hotspots, creating stacks with nodes (as we did for linked lists) is a better way.\n",
    "the code block below, uses the @dataclass decorator to define the node class. This decorator automatically generates boilerplate methods (like __init__) for classes that mainly store data, making them cleaner and easier to maintain. \n"
   ]
  },
  {
   "cell_type": "code",
   "execution_count": 25,
   "id": "5a3dd03a",
   "metadata": {},
   "outputs": [],
   "source": [
    "@dataclass\n",
    "class Node:\n",
    "    data: Any\n",
    "    next: Optional[\"Node\"] = None"
   ]
  },
  {
   "cell_type": "markdown",
   "id": "77319887",
   "metadata": {},
   "source": [
    "Next we create the LinkedStack class that we wiil use for our stack object. In the stack object we will maintain a pointer to the **top** node and define the following methods:\n",
    "- `push` creates a new node whose `next` points to the current top; \n",
    "- `pop` returns the top and moves the pointer down.\n",
    "- `peek` method that shows the data present in the top node\n",
    "- `len` method that returns the size of our stack\n",
    "\n",
    "\n",
    "In Python, defining the len method using __len__ allows us to use the built-in len(obj) function on our custom data structures. Instead of making Python count elements each time (which could be slow for linked structures), we maintain a running counter self.size that updates on every push and pop. Returning this counter in __len__ makes length checks efficient while keeping the stack interface consistent with Python’s built-in collections."
   ]
  },
  {
   "cell_type": "code",
   "execution_count": 26,
   "id": "1cb3bb61",
   "metadata": {},
   "outputs": [],
   "source": [
    "class LinkedStack:\n",
    "    def __init__(self):\n",
    "        self.top: Optional[Node] = None\n",
    "        self.size: int = 0\n",
    "\n",
    "    def push(self, data: Any) -> None:\n",
    "        new_node = Node(data, self.top)\n",
    "        self.top = new_node\n",
    "        self.size += 1\n",
    "\n",
    "    def pop(self) -> Optional[Any]:\n",
    "        if self.top is None:\n",
    "            return None\n",
    "        data = self.top.data\n",
    "        self.top = self.top.next\n",
    "        self.size -= 1\n",
    "        return data\n",
    "\n",
    "    def peek(self) -> Optional[Any]:\n",
    "        return self.top.data if self.top else None\n",
    "\n",
    "    def __len__(self): \n",
    "        return self.size\n",
    "    \n",
    "    @classmethod\n",
    "    def description(cls) -> str:\n",
    "        return (\n",
    "            f\"{cls.__name__}\"\n",
    "        )\n",
    "\n"
   ]
  },
  {
   "cell_type": "code",
   "execution_count": 27,
   "id": "85871954",
   "metadata": {},
   "outputs": [
    {
     "name": "stdout",
     "output_type": "stream",
     "text": [
      "LinkedStack basic tests: OK\n"
     ]
    }
   ],
   "source": [
    "quickcheckstack(LinkedStack())"
   ]
  },
  {
   "cell_type": "markdown",
   "id": "e71600f2",
   "metadata": {},
   "source": [
    "## Queues refresher (FIFO)\n",
    "A **queue** serves items in **first-in, first-out** order. Core oprations we will look at are: \n",
    "- `enqueue(x)` (add at back), \n",
    "- `dequeue() -> x` (remove from front).\n",
    "\n",
    "We’ll build queues in three different ways: \n",
    "- with a wrapper around python lists\n",
    "- with the node data class\n",
    "- using two stacks"
   ]
  },
  {
   "cell_type": "markdown",
   "id": "ee235a45",
   "metadata": {},
   "source": [
    "### Wrapper on top of a Python list\n",
    "\n",
    "We'll use the insert method `insert(0, x)` of the list insted of the append method to ensure new elements are added to front of list while the  `pop()` method removes from the end. "
   ]
  },
  {
   "cell_type": "code",
   "execution_count": 29,
   "id": "4cf9a543",
   "metadata": {},
   "outputs": [],
   "source": [
    "class ListQueue:\n",
    "    def __init__(self):\n",
    "        self.items: List[Any] = []\n",
    "        self.size = 0\n",
    "\n",
    "    def enqueue(self, data: Any) -> None:\n",
    "        self.items.insert(0, data)   # enqueue to the \"back\"\n",
    "        self.size += 1\n",
    "\n",
    "    def dequeue(self) -> Optional[Any]:\n",
    "        if not self.items:\n",
    "            return None\n",
    "        self.size -= 1\n",
    "        return self.items.pop()      # remove from the \"front\"\n",
    "\n",
    "    def __len__(self):\n",
    "        return self.size\n",
    "    \n",
    "    @classmethod\n",
    "    def description(cls) -> str:\n",
    "        return (\n",
    "            f\"{cls.__name__}\"\n",
    "        )\n",
    "\n"
   ]
  },
  {
   "cell_type": "code",
   "execution_count": 33,
   "id": "6c1b820c",
   "metadata": {},
   "outputs": [],
   "source": [
    "def quickcheckqueue(queueobj):\n",
    "    q = queueobj\n",
    "    for x in [10,20,30]: q.enqueue(x)\n",
    "    assert len(q) == 3 and q.dequeue() == 10 and q.dequeue() == 20 and q.dequeue() == 30\n",
    "    assert q.dequeue() is None and len(q) == 0\n",
    "    print(f\"{queueobj.description()}basic tests: OK\")"
   ]
  },
  {
   "cell_type": "code",
   "execution_count": 34,
   "id": "fcdd6d81",
   "metadata": {},
   "outputs": [
    {
     "name": "stdout",
     "output_type": "stream",
     "text": [
      "ListQueuebasic tests: OK\n"
     ]
    }
   ],
   "source": [
    "quickcheckqueue(ListQueue())"
   ]
  },
  {
   "cell_type": "markdown",
   "id": "ec1ba1c6",
   "metadata": {},
   "source": [
    "### Queue via nodes (head/tail pointers)\n",
    "\n",
    "We maintain both **head** (back/rear) and **tail** (front) pointers.  \n",
    "- `enqueue(x)`: append at **head**; connect pointers.  \n",
    "- `dequeue()`: remove at **tail** and update pointers."
   ]
  },
  {
   "cell_type": "code",
   "execution_count": 37,
   "id": "14d26d1e",
   "metadata": {},
   "outputs": [],
   "source": [
    "@dataclass\n",
    "class DNode:\n",
    "    data: Any\n",
    "    next: Optional[\"DNode\"] = None\n",
    "    prev: Optional[\"DNode\"] = None\n",
    "\n",
    "class LinkedQueue:\n",
    "    def __init__(self):\n",
    "        self.head: Optional[DNode] = None  # most recently enqueued (back)\n",
    "        self.tail: Optional[DNode] = None  # next to be dequeued (front)\n",
    "        self.count: int = 0\n",
    "\n",
    "    def enqueue(self, data: Any) -> None:\n",
    "        new_node = DNode(data)\n",
    "        if self.tail is None:\n",
    "            # empty queue\n",
    "            self.tail = self.head = new_node\n",
    "        else:\n",
    "            # attach at head (back)\n",
    "            new_node.prev = self.head\n",
    "            self.head.next = new_node\n",
    "            self.head = new_node\n",
    "        self.count += 1\n",
    "\n",
    "    def dequeue(self) -> Optional[Any]:\n",
    "        if self.count == 0:\n",
    "            return None\n",
    "        data = self.tail.data\n",
    "        if self.count == 1:\n",
    "            self.tail = self.head = None\n",
    "        else:\n",
    "            self.tail = self.tail.next\n",
    "            self.tail.prev = None\n",
    "        self.count -= 1\n",
    "        return data\n",
    "\n",
    "    def __len__(self):\n",
    "        return self.count\n",
    "    \n",
    "    \n",
    "    @classmethod\n",
    "    def description(cls) -> str:\n",
    "        return (\n",
    "            f\"{cls.__name__}\"\n",
    "        )\n",
    "\n",
    "\n"
   ]
  },
  {
   "cell_type": "code",
   "execution_count": 38,
   "id": "0ddb6635",
   "metadata": {},
   "outputs": [
    {
     "name": "stdout",
     "output_type": "stream",
     "text": [
      "LinkedQueuebasic tests: OK\n"
     ]
    }
   ],
   "source": [
    "\n",
    "lq = LinkedQueue()\n",
    "quickcheckqueue(lq)"
   ]
  },
  {
   "cell_type": "markdown",
   "id": "04f8ce71",
   "metadata": {},
   "source": [
    "### Queue via **two stacks**\n",
    "\n",
    "Maintain two stacks:  \n",
    "- `inbound_stack` for enqueues,  \n",
    "- `outbound_stack` for dequeues (refill it by popping all items from inbound when needed).\n",
    "\n",
    "Here, we mimic both the stacks using python Lists.\n"
   ]
  },
  {
   "cell_type": "code",
   "execution_count": 39,
   "id": "649330b7",
   "metadata": {},
   "outputs": [],
   "source": [
    "class StackQueue:\n",
    "    def __init__(self):\n",
    "        self.inbound_stack: List[Any] = []\n",
    "        self.outbound_stack: List[Any] = []\n",
    "\n",
    "    def enqueue(self, data: Any) -> None:\n",
    "        self.inbound_stack.append(data)\n",
    "\n",
    "    def dequeue(self) -> Optional[Any]:\n",
    "        if not self.outbound_stack:\n",
    "            while self.inbound_stack:\n",
    "                self.outbound_stack.append(self.inbound_stack.pop())\n",
    "        if not self.outbound_stack:\n",
    "            return None\n",
    "        return self.outbound_stack.pop()\n",
    "\n",
    "\n"
   ]
  },
  {
   "cell_type": "code",
   "execution_count": 41,
   "id": "e254def2",
   "metadata": {},
   "outputs": [
    {
     "name": "stdout",
     "output_type": "stream",
     "text": [
      "StackQueue tests: OK\n"
     ]
    }
   ],
   "source": [
    "# Checks\n",
    "sq = StackQueue()\n",
    "for x in [1,2,3,4]:\n",
    "    sq.enqueue(x)\n",
    "assert sq.dequeue() == 1 and sq.dequeue() == 2\n",
    "sq.enqueue(5); sq.enqueue(6)\n",
    "assert sq.dequeue() == 3 and sq.dequeue() == 4 and sq.dequeue() == 5 and sq.dequeue() == 6\n",
    "assert sq.dequeue() is None\n",
    "print(\"StackQueue tests: OK\")"
   ]
  },
  {
   "cell_type": "markdown",
   "id": "8bedf9d4",
   "metadata": {},
   "source": [
    "## Part 3 — Complexity (Big‑O) quick notes\n",
    "\n",
    "| Structure | Enqueue/Push | Dequeue/Pop | Peek |\n",
    "|---|---|---|---|\n",
    "| ListStack | O(1) | O(1) | O(1) |\n",
    "| LinkedStack | O(1) | O(1) | O(1) |\n",
    "| ListQueue (`insert(0, x)`) | **O(n)** | O(1) | — |\n",
    "| LinkedQueue | O(1) | O(1) | — |\n",
    "| Two‑Stack Queue | Amortized O(1) | Amortized O(1) | — |"
   ]
  },
  {
   "cell_type": "markdown",
   "id": "3f76ef30",
   "metadata": {},
   "source": [
    "## Part 4 — Activities (choose a few)\n",
    "\n",
    "\n",
    "2. **Undo/Redo Simulator** (Two Stacks)  \n",
    "   Implement an editor history with `do(action)`, `undo()`, `redo()` using two stacks.\n",
    "\n",
    "3. **Reverse a Queue** (Stack + Queue)  \n",
    "   Given a `LinkedQueue`, reverse it **in place** using a stack.\n",
    "\n",
    "7. **Queue using Two Stacks — Instrumentation**  \n",
    "   Modify `StackQueue` to show the lengh of the queue at any given time."
   ]
  }
 ],
 "metadata": {
  "kernelspec": {
   "display_name": "Python 3",
   "language": "python",
   "name": "python3"
  },
  "language_info": {
   "codemirror_mode": {
    "name": "ipython",
    "version": 3
   },
   "file_extension": ".py",
   "mimetype": "text/x-python",
   "name": "python",
   "nbconvert_exporter": "python",
   "pygments_lexer": "ipython3",
   "version": "3.10.6"
  }
 },
 "nbformat": 4,
 "nbformat_minor": 5
}
