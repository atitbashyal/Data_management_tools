{
 "cells": [
  {
   "cell_type": "markdown",
   "metadata": {},
   "source": [
    "### List"
   ]
  },
  {
   "cell_type": "code",
   "execution_count": 12,
   "metadata": {},
   "outputs": [
    {
     "name": "stdout",
     "output_type": "stream",
     "text": [
      "list1: [1, 2, 3]\n",
      "list2: ['h', 'e', 'l', 'l', 'o']\n",
      "list3: [0, 0, 0, 0, 0]\n"
     ]
    }
   ],
   "source": [
    "x=1\n",
    "y=2\n",
    "z=3\n",
    "\n",
    "list1= [x,y,z]\n",
    "print('list1:',list1)\n",
    "\n",
    "list2 = list('hello') # can be any iterable, we used string here\n",
    "print('list2:',list2)\n",
    "\n",
    "list3 = [0] * 5\n",
    "print('list3:',list3)"
   ]
  },
  {
   "cell_type": "markdown",
   "metadata": {},
   "source": [
    "you cann use the add operatotr on 2 lists to join them "
   ]
  },
  {
   "cell_type": "code",
   "execution_count": 15,
   "metadata": {},
   "outputs": [
    {
     "name": "stdout",
     "output_type": "stream",
     "text": [
      "[1, 2, 3, 'h', 'e', 'l', 'l', 'o', 0, 0, 0, 0, 0]\n"
     ]
    }
   ],
   "source": [
    "new_list = list1+list2+list3\n",
    "print(new_list)"
   ]
  },
  {
   "cell_type": "markdown",
   "metadata": {},
   "source": [
    "elements of list can be of different data types\n"
   ]
  },
  {
   "cell_type": "markdown",
   "metadata": {},
   "source": [
    "lists can contain other lists in them!!! "
   ]
  },
  {
   "cell_type": "code",
   "execution_count": 7,
   "metadata": {},
   "outputs": [],
   "source": [
    "items= [[\"rice\", 2.4, 8], [\"flour\", 1.9, 5], [\"corn\", 4.7, 6]]"
   ]
  },
  {
   "cell_type": "markdown",
   "metadata": {},
   "source": [
    "you can iterate through a list using for loops. And get items in list using index values"
   ]
  },
  {
   "cell_type": "code",
   "execution_count": 8,
   "metadata": {},
   "outputs": [
    {
     "name": "stdout",
     "output_type": "stream",
     "text": [
      "Product: rice price: 2.40 Quality: 8\n",
      "Product: flour price: 1.90 Quality: 5\n",
      "Product: corn price: 4.70 Quality: 6\n"
     ]
    }
   ],
   "source": [
    "for item in items:\n",
    "\tprint(\"Product: %s price: %.2f Quality: %i\" % (item[0], item[1], item[2]))"
   ]
  },
  {
   "cell_type": "markdown",
   "metadata": {},
   "source": [
    "indexing for list works same as for strings!!"
   ]
  },
  {
   "cell_type": "code",
   "execution_count": 16,
   "metadata": {},
   "outputs": [
    {
     "data": {
      "text/plain": [
       "[1, 3, 'e', 'l', 0, 0, 0]"
      ]
     },
     "execution_count": 16,
     "metadata": {},
     "output_type": "execute_result"
    }
   ],
   "source": [
    "new_list[::2] # skip every second index i.e step 2"
   ]
  },
  {
   "cell_type": "markdown",
   "metadata": {},
   "source": [
    "there are several methods attributed to the list object. most common method is append used to add to end of list "
   ]
  },
  {
   "cell_type": "code",
   "execution_count": 17,
   "metadata": {},
   "outputs": [
    {
     "name": "stdout",
     "output_type": "stream",
     "text": [
      "[1, 2, 3, 'hello']\n"
     ]
    }
   ],
   "source": [
    "# append to list \n",
    "\n",
    "list1.append('hello') # Always adds to end \n",
    "\n",
    "print(list1)"
   ]
  },
  {
   "cell_type": "markdown",
   "metadata": {},
   "source": [
    "The “in” keyword can be used to check if particular character is an element in the list"
   ]
  },
  {
   "cell_type": "code",
   "execution_count": 22,
   "metadata": {},
   "outputs": [
    {
     "name": "stdout",
     "output_type": "stream",
     "text": [
      "apple in list\n"
     ]
    }
   ],
   "source": [
    "a = ['apple', 'banana', 'cherry']\n",
    "\n",
    "if 'apple' in a:\n",
    "    print('apple in list')"
   ]
  },
  {
   "cell_type": "markdown",
   "metadata": {},
   "source": [
    "### Tuple\n"
   ]
  },
  {
   "cell_type": "code",
   "execution_count": 25,
   "metadata": {},
   "outputs": [
    {
     "name": "stdout",
     "output_type": "stream",
     "text": [
      "tup ('hello', 'Python')\n",
      "tup2 (4, 5, 6)\n",
      "tup3 (7, 8, 9)\n",
      "tup4 ()\n",
      "tup5 (10,)\n"
     ]
    }
   ],
   "source": [
    "# Round brackets\n",
    "tup = ('hello', 'Python')\n",
    "\n",
    "# Comma-separated without parentheses\n",
    "tup2 = 4, 5, 6\n",
    "\n",
    "# Using constructor\n",
    "tup3 = tuple([7,8,9])\n",
    "\n",
    "# Empty tuple\n",
    "tup4 = ()\n",
    "\n",
    "# Single-element tuple\n",
    "tup5 = (10,)\n",
    "\n",
    "\n",
    "print('tup',tup)\n",
    "print('tup2',tup2)\n",
    "print('tup3',tup3)\n",
    "print('tup4',tup4)\n",
    "print('tup5',tup5)\n"
   ]
  },
  {
   "cell_type": "markdown",
   "metadata": {},
   "source": [
    "python tuples support unpacking"
   ]
  },
  {
   "cell_type": "code",
   "execution_count": 29,
   "metadata": {},
   "outputs": [
    {
     "name": "stdout",
     "output_type": "stream",
     "text": [
      "unpacked values 4, 5, 6\n"
     ]
    }
   ],
   "source": [
    "a,b,c = tup2\n",
    "\n",
    "print(f'unpacked values {a}, {b}, {c}')     "
   ]
  },
  {
   "cell_type": "markdown",
   "metadata": {},
   "source": [
    "tuples also suppot loop control as any iterable"
   ]
  },
  {
   "cell_type": "code",
   "execution_count": 30,
   "metadata": {},
   "outputs": [
    {
     "name": "stdout",
     "output_type": "stream",
     "text": [
      "b\n",
      "y\n",
      "e\n",
      "leaving\n"
     ]
    }
   ],
   "source": [
    "s = 'bye'\n",
    "# Iterating over the tuple\n",
    "for item in s :\n",
    "    print(item)   \n",
    "\n",
    "\n",
    "# control statement \n",
    "if 'e' in s:\n",
    "   print('leaving')     "
   ]
  },
  {
   "cell_type": "markdown",
   "metadata": {},
   "source": [
    "### Sets"
   ]
  },
  {
   "cell_type": "code",
   "execution_count": 33,
   "metadata": {},
   "outputs": [
    {
     "name": "stdout",
     "output_type": "stream",
     "text": [
      "{10, 50, 20}\n",
      "[10, 50, 20, 10] changed to {10, 50, 20}\n"
     ]
    }
   ],
   "source": [
    "# Using curly brackets \n",
    "set_example = {10, 50, 20}\n",
    "print(set_example ) \n",
    "\n",
    "\n",
    "# typecasting a list into a set\n",
    "l = [10,50,20,10]\n",
    "set_example = set(l)  # notice what happens to duplicate 10\n",
    "print(l,'changed to', set_example )                 "
   ]
  },
  {
   "cell_type": "markdown",
   "metadata": {},
   "source": [
    "Common built in methods in sets"
   ]
  },
  {
   "cell_type": "code",
   "execution_count": 35,
   "metadata": {},
   "outputs": [
    {
     "name": "stdout",
     "output_type": "stream",
     "text": [
      "{1, 2, 3, 4}\n"
     ]
    }
   ],
   "source": [
    "\n",
    "s ={1,2,3}\n",
    "# add an element using add()\n",
    "s.add(4)\n",
    "print(s) \n",
    "          \n"
   ]
  },
  {
   "cell_type": "code",
   "execution_count": 36,
   "metadata": {},
   "outputs": [
    {
     "name": "stdout",
     "output_type": "stream",
     "text": [
      "{1, 3, 4}\n"
     ]
    }
   ],
   "source": [
    "# remove an element using remove()\n",
    "s.remove(2)\n",
    "print(s)"
   ]
  },
  {
   "cell_type": "markdown",
   "metadata": {},
   "source": [
    "mathematical operrations on set"
   ]
  },
  {
   "cell_type": "code",
   "execution_count": 39,
   "metadata": {},
   "outputs": [
    {
     "name": "stdout",
     "output_type": "stream",
     "text": [
      "union\n",
      "{1, 2, 3, 4, 5}\n",
      "intersection\n",
      "{3}\n",
      "difference\n",
      "{1, 2}\n"
     ]
    }
   ],
   "source": [
    "# define two sets\n",
    "a = {1, 2, 3}\n",
    "b = {3, 4, 5}\n",
    "\n",
    "# union of two sets\n",
    "print('union') \n",
    "print(a.union(b))       \n",
    "\n",
    "# intersection of two sets\n",
    "print('intersection') \n",
    "print(a.intersection(b))  \n",
    "\n",
    "# difference (elements in a but not in b)\n",
    "print('difference') \n",
    "print(a.difference(b))  \n"
   ]
  },
  {
   "cell_type": "markdown",
   "metadata": {},
   "source": [
    "### Dictionaries"
   ]
  },
  {
   "cell_type": "code",
   "execution_count": 41,
   "metadata": {},
   "outputs": [
    {
     "name": "stdout",
     "output_type": "stream",
     "text": [
      "{'name': 'Alice', 'age': 25}\n",
      "{'name': 'Bob', 'age': 30}\n",
      "{'x': 1, 'y': 2}\n",
      "{}\n"
     ]
    }
   ],
   "source": [
    "# Using curly brackets to create a dictionary\n",
    "dict_example = {\"name\": \"Alice\", \"age\": 25}\n",
    "print(dict_example)       \n",
    "\n",
    "# Using dict() constructor with keyword arguments\n",
    "dict_example = dict(name=\"Bob\", age=30)\n",
    "print(dict_example)   \n",
    "\n",
    "# Using dict() with a list of tuples\n",
    "pair_list = [(\"x\", 1), (\"y\", 2)]\n",
    "dict_example = dict(pair_list)\n",
    "print(dict_example)       \n",
    "\n",
    "# Creating an empty dictionary\n",
    "empty_dict = {}\n",
    "print(empty_dict)        \n",
    "\n"
   ]
  },
  {
   "cell_type": "markdown",
   "metadata": {},
   "source": [
    " Values from a dictionary can be accessed using the key within square brackets or using get() method"
   ]
  },
  {
   "cell_type": "code",
   "execution_count": 42,
   "metadata": {},
   "outputs": [
    {
     "name": "stdout",
     "output_type": "stream",
     "text": [
      "Alice\n",
      "20\n",
      "A\n",
      "None\n"
     ]
    }
   ],
   "source": [
    "# create a dictionary\n",
    "student = {\"name\": \"Alice\", \"age\": 20, \"grade\": \"A\"}\n",
    "\n",
    "# Access using square brackets (direct access)\n",
    "print(student[\"name\"])        \n",
    "print(student[\"age\"])           \n",
    "\n",
    "# Access using get() method\n",
    "print(student.get(\"grade\"))   \n",
    "print(student.get(\"id\"))          \n"
   ]
  },
  {
   "cell_type": "markdown",
   "metadata": {},
   "source": [
    "use direct assignment to update or add elements"
   ]
  },
  {
   "cell_type": "code",
   "execution_count": 45,
   "metadata": {},
   "outputs": [
    {
     "name": "stdout",
     "output_type": "stream",
     "text": [
      "{'name': 'Alice', 'age': 21, 'grade': 'A', 'id': 1122}\n"
     ]
    }
   ],
   "source": [
    "# create a dictionary\n",
    "student = {\"name\": \"Alice\", \"age\": 20, \"grade\": \"A\"}\n",
    "\n",
    "# using square brackets (direct access) to add or update\n",
    "student[\"id\"] = 1122 # adding new key-value\n",
    "student[\"age\"] = 21  # updating exesting\n",
    "print(student)   \n"
   ]
  },
  {
   "cell_type": "markdown",
   "metadata": {},
   "source": [
    "removing items"
   ]
  },
  {
   "cell_type": "code",
   "execution_count": 46,
   "metadata": {},
   "outputs": [
    {
     "name": "stdout",
     "output_type": "stream",
     "text": [
      "{'name': 'Alice', 'city': 'New York'}\n",
      "New York\n",
      "{'name': 'Alice'}\n",
      "('city', 'New York')\n",
      "{'name': 'Alice', 'age': 25}\n",
      "{}\n"
     ]
    }
   ],
   "source": [
    "# create a dictionary\n",
    "person = {\"name\": \"Alice\", \"age\": 25, \"city\": \"New York\"}\n",
    "\n",
    "# Remove an item using del\n",
    "del person[\"age\"]\n",
    "print(person)         \n",
    "\n",
    "# Remove and return an item using pop()\n",
    "city = person.pop(\"city\")\n",
    "print(city)           \n",
    "print(person) \n",
    "\n",
    "# Add items back \n",
    "person[\"age\"] = 25\n",
    "person[\"city\"] = \"New York\"\n",
    "\n",
    "# Remove and return the last inserted item using popitem()\n",
    "last_item = person.popitem()\n",
    "print(last_item)   \n",
    "print(person)         \n",
    "# Clear the entire dictionary\n",
    "person.clear()\n",
    "print(person)         \n"
   ]
  },
  {
   "cell_type": "markdown",
   "metadata": {},
   "source": [
    "iterating through dict"
   ]
  },
  {
   "cell_type": "code",
   "execution_count": 49,
   "metadata": {},
   "outputs": [
    {
     "name": "stdout",
     "output_type": "stream",
     "text": [
      "Iterate over keys\n",
      "name\n",
      "age\n",
      "city\n",
      "Iterate over values\n",
      "Alice\n",
      "25\n",
      "New York\n",
      "Iterate over key-value pairs\n",
      "name: Alice\n",
      "age: 25\n",
      "city: New York\n"
     ]
    }
   ],
   "source": [
    "person = {\"name\": \"Alice\", \"age\": 25, \"city\": \"New York\"}\n",
    "\n",
    "# Iterate over keys\n",
    "print(\"Iterate over keys\")\n",
    "for key in person:\n",
    "    print(key)\n",
    "\n",
    "\n",
    "print(\"Iterate over values\")\n",
    "# Iterate over values\n",
    "for value in person.values():\n",
    "    print(value)\n",
    "\n",
    "print(\"Iterate over key-value pairs\")\n",
    "# Iterate over key-value pairs\n",
    "for key, value in person.items():\n",
    "    print(f\"{key}: {value}\")\n"
   ]
  },
  {
   "cell_type": "markdown",
   "metadata": {},
   "source": [
    "# practice activities \n",
    "\n",
    "based on the simple codes we wrote you will now be able to do simple coding tasks, here are few tasks that you can practice. We will discuss these problems in the tutorial session. \n",
    "\n"
   ]
  },
  {
   "cell_type": "markdown",
   "metadata": {},
   "source": [
    "## Problem:1  \n",
    "Create a list of 5 fruits. Print the first and last element.\n",
    "\n",
    "**Sample Input:**  \n",
    "`fruits = [\"apple\", \"banana\", \"mango\", \"orange\", \"grapes\"]`\n",
    "\n",
    "**Expected Output:** \n",
    " \n",
    "First fruit: apple\n",
    "\n",
    "Last fruit: grapes"
   ]
  },
  {
   "cell_type": "markdown",
   "metadata": {},
   "source": [
    "\n",
    "## Problem: 2 \n",
    "Replace the 3rd element with another fruit. Append a new fruit to the list.\n",
    "\n",
    "**Sample Input:**  \n",
    "`fruits = [\"apple\", \"banana\", \"mango\", \"orange\", \"grapes\"]`  \n",
    "Replace `\"mango\"` with `\"kiwi\"`, append `\"pineapple\"`.\n",
    "\n",
    "**Expected Output:** \n",
    "`['apple', 'banana', 'kiwi', 'orange', 'grapes', 'pineapple']`"
   ]
  },
  {
   "cell_type": "code",
   "execution_count": null,
   "metadata": {},
   "outputs": [],
   "source": []
  },
  {
   "cell_type": "markdown",
   "metadata": {},
   "source": [
    "## Problem: 3\n",
    "\n",
    "Write a program that takes a sentence as input and counts how many times each word appears. Store the results in a dictionary. Ignore case differences (treat \"The\" and \"the\" as the same word).\n",
    "\n",
    "**Sample Input:**  \n",
    "\n",
    "`sentence = \"The sun shines and the sun sets\"`\n",
    "\n",
    "**Expected Output:**  \n",
    "`{'the': 2, 'sun': 2, 'shines': 1, 'and': 1, 'sets': 1}`\n"
   ]
  },
  {
   "cell_type": "code",
   "execution_count": null,
   "metadata": {},
   "outputs": [],
   "source": []
  },
  {
   "cell_type": "markdown",
   "metadata": {},
   "source": [
    "## Problem: 4\n",
    "\n",
    "Create a dictionary of students and their list of marks. For each student, print their name, average marks, and highest marks.\n",
    "\n",
    "\n",
    "**Sample Input:**  \n",
    "\n",
    "`marks = {\n",
    "    \"John\": [85, 90, 78],\n",
    "    \"Emma\": [92, 88, 95],\n",
    "    \"Liam\": [70, 75, 80]\n",
    "}`\n",
    "\n",
    "**Expected Output:**  \n",
    "\n",
    "John - Average: 84.33, Highest: 90 <br> \n",
    "Emma - Average: 91.67, Highest: 95 <br>\n",
    "Liam - Average: 75.0, Highest: 80  <br>"
   ]
  },
  {
   "cell_type": "code",
   "execution_count": null,
   "metadata": {},
   "outputs": [],
   "source": []
  }
 ],
 "metadata": {
  "kernelspec": {
   "display_name": "base",
   "language": "python",
   "name": "python3"
  },
  "language_info": {
   "codemirror_mode": {
    "name": "ipython",
    "version": 3
   },
   "file_extension": ".py",
   "mimetype": "text/x-python",
   "name": "python",
   "nbconvert_exporter": "python",
   "pygments_lexer": "ipython3",
   "version": "3.7.6"
  },
  "orig_nbformat": 4
 },
 "nbformat": 4,
 "nbformat_minor": 2
}
