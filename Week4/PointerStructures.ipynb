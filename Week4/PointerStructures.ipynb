{
 "cells": [
  {
   "cell_type": "markdown",
   "id": "8d5ee7e9",
   "metadata": {},
   "source": [
    "# Pointer Structures and Linked Lists\n",
    "This notebook is auto-generated from lecture slides and includes all example code snippets."
   ]
  },
  {
   "cell_type": "code",
   "execution_count": null,
   "id": "6341cf92",
   "metadata": {},
   "outputs": [],
   "source": [
    "class Node:\n",
    "    def __init__(self, data=None):\n",
    "        self.data = data\n",
    "        self.next = None"
   ]
  },
  {
   "cell_type": "code",
   "execution_count": null,
   "id": "661252a2",
   "metadata": {},
   "outputs": [],
   "source": [
    "class SinglyLinkedList:\n",
    "    def __init__(self):\n",
    "        self.tail = None"
   ]
  },
  {
   "cell_type": "code",
   "execution_count": null,
   "id": "7013f14c",
   "metadata": {},
   "outputs": [],
   "source": [
    "def append(self, data):\n",
    "    new_node = Node(data)\n",
    "    if self.tail is None:\n",
    "        self.tail = new_node\n",
    "    else:\n",
    "        cur = self.tail\n",
    "        while cur.next:\n",
    "            cur = cur.next\n",
    "        cur.next = new_node"
   ]
  },
  {
   "cell_type": "code",
   "execution_count": null,
   "id": "406d0548",
   "metadata": {},
   "outputs": [],
   "source": [
    "class SinglyLinkedList:\n",
    "    def __init__(self):\n",
    "        self.tail = None\n",
    "        self.head = None\n",
    "\n",
    "    def append(self, data):\n",
    "        new_node = Node(data)\n",
    "        if self.head:\n",
    "            self.head.next = new_node\n",
    "            self.head = new_node\n",
    "        else:\n",
    "            self.tail = new_node\n",
    "            self.head = new_node"
   ]
  },
  {
   "cell_type": "code",
   "execution_count": null,
   "id": "32c2179c",
   "metadata": {},
   "outputs": [],
   "source": [
    "class SinglyLinkedList:\n",
    "    def __init__(self):\n",
    "        self.tail = None\n",
    "        self.head = None\n",
    "        self.size = 0\n",
    "\n",
    "    def append(self, data):\n",
    "        self.size += 1\n",
    "        new_node = Node(data)\n",
    "        if self.head:\n",
    "            self.head.next = new_node\n",
    "            self.head = new_node\n",
    "        else:\n",
    "            self.tail = new_node\n",
    "            self.head = new_node"
   ]
  },
  {
   "cell_type": "code",
   "execution_count": null,
   "id": "6ff74fac",
   "metadata": {},
   "outputs": [],
   "source": [
    "def iter_list(self):\n",
    "    current = self.tail\n",
    "    while current:\n",
    "        yield current.data\n",
    "        current = current.next"
   ]
  },
  {
   "cell_type": "code",
   "execution_count": null,
   "id": "5c09ce13",
   "metadata": {},
   "outputs": [],
   "source": [
    "def delete(self, data):\n",
    "    current = self.tail\n",
    "    prev = self.tail\n",
    "    while current:\n",
    "        if current.data == data:\n",
    "            if current == self.tail:\n",
    "                self.tail = current.next\n",
    "            else:\n",
    "                prev.next = current.next\n",
    "            self.size -= 1\n",
    "            return\n",
    "        prev = current\n",
    "        current = current.next"
   ]
  },
  {
   "cell_type": "code",
   "execution_count": null,
   "id": "e9e9032c",
   "metadata": {},
   "outputs": [],
   "source": [
    "def search(self, data):\n",
    "    for node in self.iter_list():\n",
    "        if data == node:\n",
    "            return True\n",
    "    return False"
   ]
  },
  {
   "cell_type": "code",
   "execution_count": null,
   "id": "6c985fa7",
   "metadata": {},
   "outputs": [],
   "source": [
    "class Node:\n",
    "    def __init__(self, data=None, next=None, prev=None):\n",
    "        self.data = data\n",
    "        self.next = next\n",
    "        self.prev = prev"
   ]
  },
  {
   "cell_type": "code",
   "execution_count": null,
   "id": "180fe52a",
   "metadata": {},
   "outputs": [],
   "source": [
    "class DoublyLinkedList:\n",
    "    def __init__(self):\n",
    "        self.head = None\n",
    "        self.tail = None\n",
    "        self.size = 0"
   ]
  },
  {
   "cell_type": "code",
   "execution_count": null,
   "id": "16171813",
   "metadata": {},
   "outputs": [],
   "source": [
    "def append(self, data):\n",
    "    new_node = Node(data)\n",
    "    if self.tail is None:\n",
    "        self.tail = new_node\n",
    "        self.head = self.tail\n",
    "    else:\n",
    "        new_node.prev = self.head\n",
    "        self.head.next = new_node\n",
    "        self.head = new_node\n",
    "    self.size += 1"
   ]
  },
  {
   "cell_type": "code",
   "execution_count": null,
   "id": "cdb19802",
   "metadata": {},
   "outputs": [],
   "source": [
    "def delete(self, data):\n",
    "    current = self.tail\n",
    "    node_deleted = False\n",
    "    while current:\n",
    "        if current.data == data:\n",
    "            if current.prev:\n",
    "                current.prev.next = current.next\n",
    "            else:\n",
    "                self.tail = current.next\n",
    "            if current.next:\n",
    "                current.next.prev = current.prev\n",
    "            else:\n",
    "                self.head = current.prev\n",
    "            self.size -= 1\n",
    "            node_deleted = True\n",
    "            break\n",
    "        current = current.next\n",
    "    return node_deleted"
   ]
  },
  {
   "cell_type": "code",
   "execution_count": null,
   "id": "a54a4685",
   "metadata": {},
   "outputs": [],
   "source": [
    "def search(self, data):\n",
    "    current = self.tail\n",
    "    while current:\n",
    "        if current.data == data:\n",
    "            return True\n",
    "        current = current.next\n",
    "    return False"
   ]
  },
  {
   "cell_type": "code",
   "execution_count": null,
   "id": "bc0b7382",
   "metadata": {},
   "outputs": [],
   "source": [
    "class SinglyLinkedCircularList:\n",
    "    def __init__(self):\n",
    "        self.tail = None\n",
    "        self.head = None\n",
    "        self.size = 0\n",
    "\n",
    "    def append(self, data):\n",
    "        new_node = Node(data)\n",
    "        if self.head:\n",
    "            self.head.next = new_node\n",
    "            self.head = new_node\n",
    "        else:\n",
    "            self.tail = new_node\n",
    "            self.head = new_node\n",
    "        self.head.next = self.tail\n",
    "        self.size += 1"
   ]
  },
  {
   "cell_type": "code",
   "execution_count": null,
   "id": "5faabf09",
   "metadata": {},
   "outputs": [],
   "source": [
    "def delete(self, data):\n",
    "    current = self.tail\n",
    "    prev = self.tail\n",
    "    while prev == current or prev != self.head:\n",
    "        if current.data == data:\n",
    "            if current == self.tail:\n",
    "                self.tail = current.next\n",
    "                self.head.next = self.tail\n",
    "            else:\n",
    "                prev.next = current.next\n",
    "            self.size -= 1\n",
    "            return\n",
    "        prev = current\n",
    "        current = current.next"
   ]
  },
  {
   "cell_type": "markdown",
   "id": "da21a2d3",
   "metadata": {},
   "source": [
    "# Coding Activity\n",
    "Implement a function `reverse()` inside the SinglyLinkedList class that reverses the linked list in-place.\n",
    "\n",
    "### Example:\n",
    "```python\n",
    "ll = SinglyLinkedList()\n",
    "ll.append(1)\n",
    "ll.append(2)\n",
    "ll.append(3)\n",
    "ll.reverse()\n",
    "print(list(ll.iter_list()))  # Output: [3, 2, 1]\n",
    "```\n"
   ]
  }
 ],
 "metadata": {
  "kernelspec": {
   "display_name": "base",
   "language": "python",
   "name": "python3"
  },
  "language_info": {
   "codemirror_mode": {
    "name": "ipython",
    "version": 3
   },
   "file_extension": ".py",
   "mimetype": "text/x-python",
   "name": "python",
   "nbconvert_exporter": "python",
   "pygments_lexer": "ipython3",
   "version": "3.7.6"
  }
 },
 "nbformat": 4,
 "nbformat_minor": 5
}
