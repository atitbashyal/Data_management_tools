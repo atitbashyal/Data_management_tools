{
 "cells": [
  {
   "cell_type": "markdown",
   "metadata": {},
   "source": [
    "## creating variables \n",
    "\n",
    "variables are assigned values, the values can be any data structure or python objects "
   ]
  },
  {
   "cell_type": "code",
   "execution_count": 1,
   "metadata": {},
   "outputs": [
    {
     "name": "stdout",
     "output_type": "stream",
     "text": [
      "value of a: 1\n",
      "value of b: 3\n"
     ]
    }
   ],
   "source": [
    "a = 1\n",
    "print('value of a:', a)\n",
    "b = 3 \n",
    "print('value of b:',b)"
   ]
  },
  {
   "cell_type": "markdown",
   "metadata": {},
   "source": [
    "because variables are just pointers to objects in memory, we can point a new variable to an already existing value, via another variable  "
   ]
  },
  {
   "cell_type": "code",
   "execution_count": 2,
   "metadata": {},
   "outputs": [
    {
     "name": "stdout",
     "output_type": "stream",
     "text": [
      "new value of b: 1\n"
     ]
    }
   ],
   "source": [
    "b = a \n",
    "\n",
    "print('new value of b:',b)"
   ]
  },
  {
   "cell_type": "markdown",
   "metadata": {},
   "source": [
    "variables aare assigned types based on the type of object they point to"
   ]
  },
  {
   "cell_type": "code",
   "execution_count": 3,
   "metadata": {},
   "outputs": [
    {
     "data": {
      "text/plain": [
       "int"
      ]
     },
     "execution_count": 3,
     "metadata": {},
     "output_type": "execute_result"
    }
   ],
   "source": [
    "a = 1\n",
    "type(a)"
   ]
  },
  {
   "cell_type": "code",
   "execution_count": 4,
   "metadata": {},
   "outputs": [
    {
     "data": {
      "text/plain": [
       "str"
      ]
     },
     "execution_count": 4,
     "metadata": {},
     "output_type": "execute_result"
    }
   ],
   "source": [
    "b = 'helloworld'\n",
    "type(b)"
   ]
  },
  {
   "cell_type": "markdown",
   "metadata": {},
   "source": [
    "mathematical operations on variables can change its type "
   ]
  },
  {
   "cell_type": "code",
   "execution_count": 5,
   "metadata": {},
   "outputs": [
    {
     "data": {
      "text/plain": [
       "float"
      ]
     },
     "execution_count": 5,
     "metadata": {},
     "output_type": "execute_result"
    }
   ],
   "source": [
    "a += 0.1\n",
    "\n",
    "type(a)"
   ]
  },
  {
   "cell_type": "markdown",
   "metadata": {},
   "source": [
    "we can check the index of the object stored in memory (think of it as an value that represents location in memory)"
   ]
  },
  {
   "cell_type": "code",
   "execution_count": 6,
   "metadata": {},
   "outputs": [
    {
     "data": {
      "text/plain": [
       "140544857474128"
      ]
     },
     "execution_count": 6,
     "metadata": {},
     "output_type": "execute_result"
    }
   ],
   "source": [
    "id(a)"
   ]
  },
  {
   "cell_type": "markdown",
   "metadata": {},
   "source": [
    "objects in Python have properties and methods assigned to them. Properties are attributes that define what the object is and methods allow us to do operation on the object. we can look into properties and methods of the specified object, without accessing the values"
   ]
  },
  {
   "cell_type": "code",
   "execution_count": 7,
   "metadata": {},
   "outputs": [
    {
     "data": {
      "text/plain": [
       "['__abs__',\n",
       " '__add__',\n",
       " '__bool__',\n",
       " '__class__',\n",
       " '__delattr__',\n",
       " '__dir__',\n",
       " '__divmod__',\n",
       " '__doc__',\n",
       " '__eq__',\n",
       " '__float__',\n",
       " '__floordiv__',\n",
       " '__format__',\n",
       " '__ge__',\n",
       " '__getattribute__',\n",
       " '__getformat__',\n",
       " '__getnewargs__',\n",
       " '__gt__',\n",
       " '__hash__',\n",
       " '__init__',\n",
       " '__init_subclass__',\n",
       " '__int__',\n",
       " '__le__',\n",
       " '__lt__',\n",
       " '__mod__',\n",
       " '__mul__',\n",
       " '__ne__',\n",
       " '__neg__',\n",
       " '__new__',\n",
       " '__pos__',\n",
       " '__pow__',\n",
       " '__radd__',\n",
       " '__rdivmod__',\n",
       " '__reduce__',\n",
       " '__reduce_ex__',\n",
       " '__repr__',\n",
       " '__rfloordiv__',\n",
       " '__rmod__',\n",
       " '__rmul__',\n",
       " '__round__',\n",
       " '__rpow__',\n",
       " '__rsub__',\n",
       " '__rtruediv__',\n",
       " '__set_format__',\n",
       " '__setattr__',\n",
       " '__sizeof__',\n",
       " '__str__',\n",
       " '__sub__',\n",
       " '__subclasshook__',\n",
       " '__truediv__',\n",
       " '__trunc__',\n",
       " 'as_integer_ratio',\n",
       " 'conjugate',\n",
       " 'fromhex',\n",
       " 'hex',\n",
       " 'imag',\n",
       " 'is_integer',\n",
       " 'real']"
      ]
     },
     "execution_count": 7,
     "metadata": {},
     "output_type": "execute_result"
    }
   ],
   "source": [
    "dir(a)"
   ]
  },
  {
   "cell_type": "markdown",
   "metadata": {},
   "source": [
    "lets call a few methods "
   ]
  },
  {
   "cell_type": "code",
   "execution_count": 8,
   "metadata": {},
   "outputs": [
    {
     "data": {
      "text/plain": [
       "False"
      ]
     },
     "execution_count": 8,
     "metadata": {},
     "output_type": "execute_result"
    }
   ],
   "source": [
    "a.is_integer() # check if it is integer"
   ]
  },
  {
   "cell_type": "code",
   "execution_count": 9,
   "metadata": {},
   "outputs": [
    {
     "data": {
      "text/plain": [
       "1.1"
      ]
     },
     "execution_count": 9,
     "metadata": {},
     "output_type": "execute_result"
    }
   ],
   "source": [
    "a.real # get the real part of the number"
   ]
  },
  {
   "cell_type": "code",
   "execution_count": 10,
   "metadata": {},
   "outputs": [
    {
     "data": {
      "text/plain": [
       "'0x1.199999999999ap+0'"
      ]
     },
     "execution_count": 10,
     "metadata": {},
     "output_type": "execute_result"
    }
   ],
   "source": [
    "a.hex() # change to hexadecimal format"
   ]
  },
  {
   "cell_type": "markdown",
   "metadata": {},
   "source": [
    "## Flow control and iteration"
   ]
  },
  {
   "cell_type": "markdown",
   "metadata": {},
   "source": [
    "if...else and elif statements control the conditional execution of statements. the statements that need to be executed after the control statements must be written after and space identation. "
   ]
  },
  {
   "cell_type": "code",
   "execution_count": 11,
   "metadata": {},
   "outputs": [
    {
     "name": "stdout",
     "output_type": "stream",
     "text": [
      "the number is zero\n"
     ]
    }
   ],
   "source": [
    "x = 0 \n",
    "if x==0: \n",
    "    print('the number is zero') \n",
    "elif x==1: \n",
    "    print('the number is one') \n",
    "else: \n",
    "    print('the number is something else')\n"
   ]
  },
  {
   "cell_type": "markdown",
   "metadata": {},
   "source": [
    "control statements can be written with AND and OR operators. Theses statements will follow the AND and OR truth tables for validation "
   ]
  },
  {
   "cell_type": "code",
   "execution_count": 12,
   "metadata": {},
   "outputs": [
    {
     "name": "stdout",
     "output_type": "stream",
     "text": [
      "the number is one and float type\n"
     ]
    }
   ],
   "source": [
    "x = 1.0 \n",
    "if x== 1  and type(x)==int: \n",
    "    print('the number is one and of integer type') \n",
    "elif x==1 and type(x)==float:\n",
    "    print('the number is one and float type') \n",
    "else: \n",
    "    print('the number is something else')"
   ]
  },
  {
   "cell_type": "markdown",
   "metadata": {},
   "source": [
    "A for loop provides way of iterating through sequences "
   ]
  },
  {
   "cell_type": "code",
   "execution_count": 13,
   "metadata": {},
   "outputs": [
    {
     "name": "stdout",
     "output_type": "stream",
     "text": [
      "1\n",
      "2\n",
      "3\n"
     ]
    }
   ],
   "source": [
    "x = [1,2,3]\n",
    "\n",
    "for value in x:\n",
    "    print(value)"
   ]
  },
  {
   "cell_type": "markdown",
   "metadata": {},
   "source": [
    "you could do anything with the value while iterating, lets for example add 2 to all the values and print "
   ]
  },
  {
   "cell_type": "code",
   "execution_count": 14,
   "metadata": {},
   "outputs": [
    {
     "name": "stdout",
     "output_type": "stream",
     "text": [
      "3\n",
      "4\n",
      "5\n"
     ]
    }
   ],
   "source": [
    "\n",
    "for value in x:\n",
    "    print(value+2)"
   ]
  },
  {
   "cell_type": "markdown",
   "metadata": {},
   "source": [
    "for loops are handy when using with iterables. iterables are just a pythonic name given to sequential objects.\\\\\n",
    "\n",
    "The range() function is used to build an iterable that has numbers starting from 0 up until n-1. "
   ]
  },
  {
   "cell_type": "code",
   "execution_count": 15,
   "metadata": {},
   "outputs": [
    {
     "name": "stdout",
     "output_type": "stream",
     "text": [
      "0\n",
      "1\n",
      "2\n",
      "3\n",
      "4\n"
     ]
    }
   ],
   "source": [
    "for i in range(5):\n",
    "    print(i)"
   ]
  },
  {
   "cell_type": "markdown",
   "metadata": {},
   "source": [
    "On the other hand, the While loop repeats execution until a conditional statement is true. Be careful with while loop becaause it is easy to get stuck in an infinite loop!!!! "
   ]
  },
  {
   "cell_type": "code",
   "execution_count": 16,
   "metadata": {},
   "outputs": [
    {
     "name": "stdout",
     "output_type": "stream",
     "text": [
      "1\n",
      "2\n",
      "3\n",
      "4\n",
      "5\n"
     ]
    }
   ],
   "source": [
    "x = 1\n",
    "\n",
    "while x <= 5:\n",
    "    print(x)\n",
    "    x += 1  # in each iteration we are adding 1 to previous value of x, \n",
    "           # ensurirng at one point it becomes greter than 5 and stops the loop"
   ]
  },
  {
   "cell_type": "markdown",
   "metadata": {},
   "source": [
    "# practice activities \n",
    "\n",
    "based on the simple codes we wrote you will now be able to do simple coding tasks, here are few tasks that you can practice. We will discuss these problems in the tutorial session. "
   ]
  },
  {
   "cell_type": "markdown",
   "metadata": {},
   "source": [
    "### Basic Arithmetic Calculator\n",
    "Take two variables with various input types and print the results of:\n",
    "\n",
    "- Addition\n",
    "- Subtraction\n",
    "- Multiplication\n",
    "- Division\n",
    "- Floor Division\n",
    "- Modulus\n",
    "- Exponentiation"
   ]
  },
  {
   "cell_type": "code",
   "execution_count": 7,
   "metadata": {},
   "outputs": [
    {
     "name": "stdout",
     "output_type": "stream",
     "text": [
      "a = 15\n",
      "b = 4\n",
      "Addition: 19\n",
      "Subtraction: 11\n",
      "Multiplication: 60\n",
      "Division: 3.75\n",
      "Floor Division: 3\n",
      "Modulus: 3\n",
      "Exponentiation: 50625\n"
     ]
    }
   ],
   "source": [
    "a = 15\n",
    "b = 4\n",
    "\n",
    "print(\"a =\", a)\n",
    "print(\"b =\", b)\n",
    "\n",
    "# Addition\n",
    "print(\"Addition:\", a + b)\n",
    "\n",
    "# Subtraction\n",
    "print(\"Subtraction:\", a - b)\n",
    "\n",
    "# Multiplication\n",
    "print(\"Multiplication:\", a * b)\n",
    "\n",
    "# Division (gives float result)\n",
    "print(\"Division:\", a / b)\n",
    "\n",
    "# Floor Division (gives integer quotient)\n",
    "print(\"Floor Division:\", a // b)\n",
    "\n",
    "# Modulus (gives remainder)\n",
    "print(\"Modulus:\", a % b)\n",
    "\n",
    "# Exponentiation (a raised to power b)\n",
    "print(\"Exponentiation:\", a ** b)"
   ]
  },
  {
   "cell_type": "markdown",
   "metadata": {},
   "source": [
    "### Assign Value if None\n",
    "Write a program where a variable is initially None. If it’s None, assign it a number and print the new value.\n",
    "#### concepts:\n",
    " None check, variable reassignment."
   ]
  },
  {
   "cell_type": "code",
   "execution_count": 8,
   "metadata": {},
   "outputs": [
    {
     "name": "stdout",
     "output_type": "stream",
     "text": [
      "initial value None\n",
      "new value 1\n"
     ]
    }
   ],
   "source": [
    "x = None\n",
    "\n",
    "print ('initial value', x)\n",
    "\n",
    "if x == None:\n",
    "    x = 1\n",
    "\n",
    "print('new value',x)"
   ]
  },
  {
   "cell_type": "markdown",
   "metadata": {},
   "source": [
    "### Odd or Even Checker\n",
    "aassign a integer vaalue to an variable and check whether it is odd or even.\n",
    "\n",
    "#### Concepts \n",
    "you need to use if-else here. Also remember even number are divisible by 2!!"
   ]
  },
  {
   "cell_type": "code",
   "execution_count": 9,
   "metadata": {},
   "outputs": [
    {
     "name": "stdout",
     "output_type": "stream",
     "text": [
      "the integer is even\n"
     ]
    }
   ],
   "source": [
    "x = 1056\n",
    "\n",
    "\n",
    "if x%2 == 0:\n",
    "    print ('the integer is even')\n",
    "else:\n",
    "    print('the integer is odd')"
   ]
  },
  {
   "cell_type": "markdown",
   "metadata": {},
   "source": [
    "### Sum of First N Numbers\n",
    "assign a number n to a variable and compute the sum from 1 to n.\n",
    "\n",
    "#### concepts: \n",
    "for loop and range "
   ]
  },
  {
   "cell_type": "code",
   "execution_count": 15,
   "metadata": {},
   "outputs": [
    {
     "name": "stdout",
     "output_type": "stream",
     "text": [
      "sum of numbers from 1 to 2 is 3\n"
     ]
    }
   ],
   "source": [
    "x = 2\n",
    "sum = 0\n",
    "\n",
    "for i in range(x+1):\n",
    "    sum += i\n",
    "\n",
    "\n",
    "print (f'sum of numbers from 1 to {x} is', sum )\n"
   ]
  },
  {
   "cell_type": "markdown",
   "metadata": {},
   "source": [
    "### Sum of Even numbers \n",
    "\n",
    "calculate the sum of all even numbers between 1 and n\n",
    "\n",
    "#### concepts\n",
    "\n",
    "loops and if condition, to make it fun try this one with while"
   ]
  },
  {
   "cell_type": "code",
   "execution_count": 16,
   "metadata": {},
   "outputs": [
    {
     "name": "stdout",
     "output_type": "stream",
     "text": [
      "sum of numbers from 1 to 4 is 6\n"
     ]
    }
   ],
   "source": [
    "x = 4\n",
    "sum = 0\n",
    "\n",
    "for i in range(x+1):\n",
    "    if i%2 == 0:\n",
    "        sum += i\n",
    "    \n",
    "\n",
    "\n",
    "print (f'sum of even numbers from 1 to {x} is', sum )"
   ]
  },
  {
   "cell_type": "markdown",
   "metadata": {},
   "source": [
    "### Basic String Information\n",
    "store a person name in a variable and print:\n",
    "- The length of the name i.e num of characters\n",
    "- The name in uppercase\n",
    "- The name in lowercase\n",
    "- The first and last character"
   ]
  },
  {
   "cell_type": "code",
   "execution_count": 17,
   "metadata": {},
   "outputs": [
    {
     "name": "stdout",
     "output_type": "stream",
     "text": [
      "Name: atit\n",
      "Length of the name: 4\n",
      "Uppercase: ATIT\n",
      "Lowercase: atit\n",
      "First character: a\n",
      "Last character: t\n"
     ]
    }
   ],
   "source": [
    "name = input(\"Enter your name: \")\n",
    "\n",
    "print(\"Name:\", name)\n",
    "\n",
    "# Length of the name\n",
    "print(\"Length of the name:\", len(name))\n",
    "\n",
    "# Uppercase\n",
    "print(\"Uppercase:\", name.upper())\n",
    "\n",
    "# Lowercase\n",
    "print(\"Lowercase:\", name.lower())\n",
    "\n",
    "# First and last character\n",
    "print(\"First character:\", name[0])\n",
    "print(\"Last character:\", name[-1])"
   ]
  },
  {
   "cell_type": "markdown",
   "metadata": {},
   "source": [
    "### Reverse a String\n",
    "Take a string and print it in reverse order without using loops (hint: slicing).\n"
   ]
  },
  {
   "cell_type": "code",
   "execution_count": 19,
   "metadata": {},
   "outputs": [
    {
     "name": "stdout",
     "output_type": "stream",
     "text": [
      "dlrow olleh\n"
     ]
    }
   ],
   "source": [
    "string = \"hello world\"\n",
    "\n",
    "reversed_string = string[::-1]\n",
    "\n",
    "print(reversed_string)"
   ]
  },
  {
   "cell_type": "markdown",
   "metadata": {},
   "source": [
    "### Count Vowels in a String\n",
    "create a variable that stores a string and count how many vowels (a, e, i, o, u) are in it.\n",
    "#### concepts: \n",
    "loops, string membership, counters."
   ]
  },
  {
   "cell_type": "code",
   "execution_count": 22,
   "metadata": {},
   "outputs": [
    {
     "name": "stdout",
     "output_type": "stream",
     "text": [
      "number of vowels in given string is 9\n"
     ]
    }
   ],
   "source": [
    "string = \"Almost finished with activity\"\n",
    "num_vowels = 0\n",
    "\n",
    "for i in string.lower():\n",
    "    if i in ['a','e','i','o','u']:\n",
    "        num_vowels += 1\n",
    "\n",
    "\n",
    "print ('number of vowels in given string is', num_vowels)\n",
    "\n"
   ]
  },
  {
   "cell_type": "code",
   "execution_count": null,
   "metadata": {},
   "outputs": [],
   "source": []
  }
 ],
 "metadata": {
  "kernelspec": {
   "display_name": "Python 3",
   "language": "python",
   "name": "python3"
  },
  "language_info": {
   "codemirror_mode": {
    "name": "ipython",
    "version": 3
   },
   "file_extension": ".py",
   "mimetype": "text/x-python",
   "name": "python",
   "nbconvert_exporter": "python",
   "pygments_lexer": "ipython3",
   "version": "3.10.6"
  },
  "orig_nbformat": 4
 },
 "nbformat": 4,
 "nbformat_minor": 2
}
